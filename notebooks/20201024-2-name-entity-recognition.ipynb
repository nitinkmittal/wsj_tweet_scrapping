{
 "cells": [
  {
   "cell_type": "code",
   "execution_count": 1,
   "metadata": {},
   "outputs": [],
   "source": [
    "%load_ext autoreload\n",
    "%autoreload 2"
   ]
  },
  {
   "cell_type": "code",
   "execution_count": 2,
   "metadata": {},
   "outputs": [],
   "source": [
    "import pandas as pd\n",
    "from tqdm import tqdm\n",
    "from os import getcwd, path as base_path\n",
    "from spacy import displacy\n",
    "from collections import Counter\n",
    "import en_core_web_sm\n",
    "from typing import List\n",
    "import numpy as np\n",
    "\n",
    "import io\n",
    "import re"
   ]
  },
  {
   "cell_type": "code",
   "execution_count": 3,
   "metadata": {},
   "outputs": [],
   "source": [
    "from sys import path\n",
    "PROJECT_PATH = getcwd()[:getcwd().find(\"notebooks\")][:-1]\n",
    "path.append(f\"{PROJECT_PATH}\\\\src\")"
   ]
  },
  {
   "cell_type": "code",
   "execution_count": 4,
   "metadata": {},
   "outputs": [],
   "source": [
    "from utils import (get_words_contractions, \n",
    "                   find_urls_in_text, \n",
    "                   get_stopwords)"
   ]
  },
  {
   "cell_type": "code",
   "execution_count": 5,
   "metadata": {},
   "outputs": [],
   "source": [
    "PROJECT_NAME = \"wsj_tweet_scrapping\"\n",
    "PROJECT_PATH = getcwd()[: getcwd().find(PROJECT_NAME) + len(PROJECT_NAME)]\n",
    "DATA_PATH = f\"{PROJECT_PATH}\\\\data\"\n",
    "EXCEL_PATH = f\"{DATA_PATH}\\\\excel\""
   ]
  },
  {
   "cell_type": "code",
   "execution_count": 15,
   "metadata": {},
   "outputs": [],
   "source": [
    "from_year = 2011\n",
    "to_year = 2020\n",
    "news_df = pd.read_excel(f\"{EXCEL_PATH}\\\\wsj_logistics_news_cleaned_{from_year}-{to_year}.xlsx\")\n",
    "news_df.dropna(inplace=True)"
   ]
  },
  {
   "cell_type": "code",
   "execution_count": 16,
   "metadata": {},
   "outputs": [
    {
     "data": {
      "text/html": [
       "<div>\n",
       "<style scoped>\n",
       "    .dataframe tbody tr th:only-of-type {\n",
       "        vertical-align: middle;\n",
       "    }\n",
       "\n",
       "    .dataframe tbody tr th {\n",
       "        vertical-align: top;\n",
       "    }\n",
       "\n",
       "    .dataframe thead th {\n",
       "        text-align: right;\n",
       "    }\n",
       "</style>\n",
       "<table border=\"1\" class=\"dataframe\">\n",
       "  <thead>\n",
       "    <tr style=\"text-align: right;\">\n",
       "      <th></th>\n",
       "      <th>date</th>\n",
       "      <th>tweet</th>\n",
       "      <th>url</th>\n",
       "      <th>news</th>\n",
       "      <th>news_cleaned</th>\n",
       "    </tr>\n",
       "  </thead>\n",
       "  <tbody>\n",
       "    <tr>\n",
       "      <th>0</th>\n",
       "      <td>2020-09-24</td>\n",
       "      <td>Today’s newsletter - Cleaning Vehicle Emissi...</td>\n",
       "      <td>https://on.wsj.com/2EuJDdb</td>\n",
       "      <td>\\n\\tNews and analysis on the world of logisti...</td>\n",
       "      <td>California is taking an aggressive step to ove...</td>\n",
       "    </tr>\n",
       "    <tr>\n",
       "      <th>1</th>\n",
       "      <td>2020-09-16</td>\n",
       "      <td>FedEx's Christmas in July; Probing Nikola Cl...</td>\n",
       "      <td>https://on.wsj.com/2Fsewzz</td>\n",
       "      <td>\\n\\tNews and analysis on the world of logisti...</td>\n",
       "      <td>FedEx is turning the surge in e-commerce deman...</td>\n",
       "    </tr>\n",
       "    <tr>\n",
       "      <th>2</th>\n",
       "      <td>2020-09-14</td>\n",
       "      <td>Shipping’s E-Commerce Drive; Short-Selling N...</td>\n",
       "      <td>https://on.wsj.com/3iv2qDW</td>\n",
       "      <td>\\n\\tNews and analysis on the world of logisti...</td>\n",
       "      <td>Container shipping lines are increasingly tryi...</td>\n",
       "    </tr>\n",
       "    <tr>\n",
       "      <th>3</th>\n",
       "      <td>2020-09-10</td>\n",
       "      <td>Brexit’s New Alarms; Railroad Offloads Bidde...</td>\n",
       "      <td>https://on.wsj.com/3inRU1m</td>\n",
       "      <td>\\n\\tNews and analysis on the world of logisti...</td>\n",
       "      <td>Fears over the fallout from a “hard” Brexit ar...</td>\n",
       "    </tr>\n",
       "    <tr>\n",
       "      <th>4</th>\n",
       "      <td>2020-09-23</td>\n",
       "      <td>Airlines Turn to Freight; Driving Robot Truc...</td>\n",
       "      <td>https://on.wsj.com/32TvO1a</td>\n",
       "      <td>\\n\\tNews and analysis on the world of logisti...</td>\n",
       "      <td>Just four of the world’s 30 largest passenger ...</td>\n",
       "    </tr>\n",
       "  </tbody>\n",
       "</table>\n",
       "</div>"
      ],
      "text/plain": [
       "        date                                              tweet  \\\n",
       "0 2020-09-24    Today’s newsletter - Cleaning Vehicle Emissi...   \n",
       "1 2020-09-16    FedEx's Christmas in July; Probing Nikola Cl...   \n",
       "2 2020-09-14    Shipping’s E-Commerce Drive; Short-Selling N...   \n",
       "3 2020-09-10    Brexit’s New Alarms; Railroad Offloads Bidde...   \n",
       "4 2020-09-23    Airlines Turn to Freight; Driving Robot Truc...   \n",
       "\n",
       "                          url  \\\n",
       "0  https://on.wsj.com/2EuJDdb   \n",
       "1  https://on.wsj.com/2Fsewzz   \n",
       "2  https://on.wsj.com/3iv2qDW   \n",
       "3  https://on.wsj.com/3inRU1m   \n",
       "4  https://on.wsj.com/32TvO1a   \n",
       "\n",
       "                                                news  \\\n",
       "0   \\n\\tNews and analysis on the world of logisti...   \n",
       "1   \\n\\tNews and analysis on the world of logisti...   \n",
       "2   \\n\\tNews and analysis on the world of logisti...   \n",
       "3   \\n\\tNews and analysis on the world of logisti...   \n",
       "4   \\n\\tNews and analysis on the world of logisti...   \n",
       "\n",
       "                                        news_cleaned  \n",
       "0  California is taking an aggressive step to ove...  \n",
       "1  FedEx is turning the surge in e-commerce deman...  \n",
       "2  Container shipping lines are increasingly tryi...  \n",
       "3  Fears over the fallout from a “hard” Brexit ar...  \n",
       "4  Just four of the world’s 30 largest passenger ...  "
      ]
     },
     "execution_count": 16,
     "metadata": {},
     "output_type": "execute_result"
    }
   ],
   "source": [
    "news_df.head()"
   ]
  },
  {
   "cell_type": "markdown",
   "metadata": {},
   "source": [
    "# Name Entity Recognitin from spaCy"
   ]
  },
  {
   "cell_type": "code",
   "execution_count": 17,
   "metadata": {},
   "outputs": [],
   "source": [
    "nlp = en_core_web_sm.load()"
   ]
  },
  {
   "cell_type": "code",
   "execution_count": 18,
   "metadata": {},
   "outputs": [],
   "source": [
    "def identify_label(text : str, label_type: List):\n",
    "    \"\"\"Return list of companies identified\"\"\"\n",
    "    label_text = []\n",
    "    for x in nlp(text).ents:\n",
    "        if x.label_ in label_type:\n",
    "            label_text.append(x.text)\n",
    "    return list(np.unique(label_text))"
   ]
  },
  {
   "cell_type": "code",
   "execution_count": 19,
   "metadata": {},
   "outputs": [
    {
     "name": "stderr",
     "output_type": "stream",
     "text": [
      "100%|██████████████████████████████████████████████████████████████████████████████| 2473/2473 [07:15<00:00,  5.68it/s]\n"
     ]
    }
   ],
   "source": [
    "ORGS = []\n",
    "for i in tqdm(range(len(news_df))):\n",
    "    companies = identify_label(news_df.iloc[i][\"news_cleaned\"], label_type=[\"ORG\"])\n",
    "    ORGS.append(companies)"
   ]
  },
  {
   "cell_type": "code",
   "execution_count": 24,
   "metadata": {},
   "outputs": [],
   "source": [
    "news_df[\"companies_identified\"] = ORGS"
   ]
  },
  {
   "cell_type": "code",
   "execution_count": 25,
   "metadata": {},
   "outputs": [
    {
     "data": {
      "text/html": [
       "<div>\n",
       "<style scoped>\n",
       "    .dataframe tbody tr th:only-of-type {\n",
       "        vertical-align: middle;\n",
       "    }\n",
       "\n",
       "    .dataframe tbody tr th {\n",
       "        vertical-align: top;\n",
       "    }\n",
       "\n",
       "    .dataframe thead th {\n",
       "        text-align: right;\n",
       "    }\n",
       "</style>\n",
       "<table border=\"1\" class=\"dataframe\">\n",
       "  <thead>\n",
       "    <tr style=\"text-align: right;\">\n",
       "      <th></th>\n",
       "      <th>date</th>\n",
       "      <th>tweet</th>\n",
       "      <th>url</th>\n",
       "      <th>news</th>\n",
       "      <th>news_cleaned</th>\n",
       "      <th>companies_identified</th>\n",
       "    </tr>\n",
       "  </thead>\n",
       "  <tbody>\n",
       "    <tr>\n",
       "      <th>0</th>\n",
       "      <td>2020-09-24</td>\n",
       "      <td>Today’s newsletter - Cleaning Vehicle Emissi...</td>\n",
       "      <td>https://on.wsj.com/2EuJDdb</td>\n",
       "      <td>\\n\\tNews and analysis on the world of logisti...</td>\n",
       "      <td>California is taking an aggressive step to ove...</td>\n",
       "      <td>[Alejandro Lazo, Amazon, Bpost’s North America...</td>\n",
       "    </tr>\n",
       "    <tr>\n",
       "      <th>1</th>\n",
       "      <td>2020-09-16</td>\n",
       "      <td>FedEx's Christmas in July; Probing Nikola Cl...</td>\n",
       "      <td>https://on.wsj.com/2Fsewzz</td>\n",
       "      <td>\\n\\tNews and analysis on the world of logisti...</td>\n",
       "      <td>FedEx is turning the surge in e-commerce deman...</td>\n",
       "      <td>[A.P. Moller-Maersk, Asda, D.G. Yuengling &amp; So...</td>\n",
       "    </tr>\n",
       "    <tr>\n",
       "      <th>2</th>\n",
       "      <td>2020-09-14</td>\n",
       "      <td>Shipping’s E-Commerce Drive; Short-Selling N...</td>\n",
       "      <td>https://on.wsj.com/3iv2qDW</td>\n",
       "      <td>\\n\\tNews and analysis on the world of logisti...</td>\n",
       "      <td>Container shipping lines are increasingly tryi...</td>\n",
       "      <td>[Amazon, Arm Holdings, CMA CGM, European Union...</td>\n",
       "    </tr>\n",
       "    <tr>\n",
       "      <th>3</th>\n",
       "      <td>2020-09-10</td>\n",
       "      <td>Brexit’s New Alarms; Railroad Offloads Bidde...</td>\n",
       "      <td>https://on.wsj.com/3inRU1m</td>\n",
       "      <td>\\n\\tNews and analysis on the world of logisti...</td>\n",
       "      <td>Fears over the fallout from a “hard” Brexit ar...</td>\n",
       "      <td>[Air Transport Services Group, Albany Times-Un...</td>\n",
       "    </tr>\n",
       "    <tr>\n",
       "      <th>4</th>\n",
       "      <td>2020-09-23</td>\n",
       "      <td>Airlines Turn to Freight; Driving Robot Truc...</td>\n",
       "      <td>https://on.wsj.com/32TvO1a</td>\n",
       "      <td>\\n\\tNews and analysis on the world of logisti...</td>\n",
       "      <td>Just four of the world’s 30 largest passenger ...</td>\n",
       "      <td>[Asiana Airlines, Beverage Daily, Brookfield, ...</td>\n",
       "    </tr>\n",
       "  </tbody>\n",
       "</table>\n",
       "</div>"
      ],
      "text/plain": [
       "        date                                              tweet  \\\n",
       "0 2020-09-24    Today’s newsletter - Cleaning Vehicle Emissi...   \n",
       "1 2020-09-16    FedEx's Christmas in July; Probing Nikola Cl...   \n",
       "2 2020-09-14    Shipping’s E-Commerce Drive; Short-Selling N...   \n",
       "3 2020-09-10    Brexit’s New Alarms; Railroad Offloads Bidde...   \n",
       "4 2020-09-23    Airlines Turn to Freight; Driving Robot Truc...   \n",
       "\n",
       "                          url  \\\n",
       "0  https://on.wsj.com/2EuJDdb   \n",
       "1  https://on.wsj.com/2Fsewzz   \n",
       "2  https://on.wsj.com/3iv2qDW   \n",
       "3  https://on.wsj.com/3inRU1m   \n",
       "4  https://on.wsj.com/32TvO1a   \n",
       "\n",
       "                                                news  \\\n",
       "0   \\n\\tNews and analysis on the world of logisti...   \n",
       "1   \\n\\tNews and analysis on the world of logisti...   \n",
       "2   \\n\\tNews and analysis on the world of logisti...   \n",
       "3   \\n\\tNews and analysis on the world of logisti...   \n",
       "4   \\n\\tNews and analysis on the world of logisti...   \n",
       "\n",
       "                                        news_cleaned  \\\n",
       "0  California is taking an aggressive step to ove...   \n",
       "1  FedEx is turning the surge in e-commerce deman...   \n",
       "2  Container shipping lines are increasingly tryi...   \n",
       "3  Fears over the fallout from a “hard” Brexit ar...   \n",
       "4  Just four of the world’s 30 largest passenger ...   \n",
       "\n",
       "                                companies_identified  \n",
       "0  [Alejandro Lazo, Amazon, Bpost’s North America...  \n",
       "1  [A.P. Moller-Maersk, Asda, D.G. Yuengling & So...  \n",
       "2  [Amazon, Arm Holdings, CMA CGM, European Union...  \n",
       "3  [Air Transport Services Group, Albany Times-Un...  \n",
       "4  [Asiana Airlines, Beverage Daily, Brookfield, ...  "
      ]
     },
     "execution_count": 25,
     "metadata": {},
     "output_type": "execute_result"
    }
   ],
   "source": [
    "news_df.head()"
   ]
  },
  {
   "cell_type": "code",
   "execution_count": 26,
   "metadata": {},
   "outputs": [],
   "source": [
    "news_df.to_excel(f\"{EXCEL_PATH}\\\\wsj_logistics_news_companies_identified_{from_year}-{to_year}.xlsx\",\n",
    "                 index=False)"
   ]
  },
  {
   "cell_type": "code",
   "execution_count": 27,
   "metadata": {},
   "outputs": [
    {
     "data": {
      "text/plain": [
       "\"California is taking an aggressive step to overhaul driving in the state that could send auto makers and truck operators scrambling. An executive order signed by Gov. Gavin Newsom aims to end the sale of new gasoline and diesel-powered passenger cars in the state by 2035. The WSJ’s Alejandro Lazo and Russell Gold report the California Air Resources Board will be charged with developing the specific regulations to implement the state mandate for passenger cars and trucks. The order on trucks is less ambitious, calling for medium- and heavy-duty vehicles such as trucks to be zero emission by 2045 “where feasible.” New trucks serving ports would have to meet the 2035 deadline, however. Port trucking has been a flashpoint for complaints over freight-transport emissions, and a handful of electric or hybrid trucks have been used in demonstration projects at the state’s big maritime gateways. A prototype truck at an event hosted by Iveco and Nikola. Nikola’s investor-related distress is starting to reach the electric-truck startup’s plans to build hydrogen-refueling stations. Talks between the company and several potential partners in the hydrogen infrastructure project have stalled, the WSJ’s Ben Foldy and Mike Colias report, following allegations that the company misled investors. The setback is the first sign that the controversy around a scathing short-seller report is affecting Nikola’s ability to execute its business plan. Potential partners have been reluctant to move forward amid the heightened scrutiny, which includes securities investigations, but a deal could still come together. Securing partners to help it build a network of hydrogen-fueling stations for its trucks is a major strategic objective for the company. Nikola executives believed they were making progress toward an agreement with at least one major energy firm before the controversy flared, and a spokeswoman said Nikola continues to work on potential partnerships. “We have to be very, very careful about opening that floodgate of costs and expenses to rebuild the airline until we’re absolutely sure that demand is going to be there.” New supply constraints may have tea drinkers feeling anxious. Prices of wholesale tea leaves have jumped as a series of logistical issues have supplies tightening, the WSJ’s Lucy Craymer reports, and the supply-chain troubles are starting to lift consumer prices at U.S. stores. The volatility in a normally stable trade is the latest sign of how the coronavirus-driven lockdowns and changes in consumer buying patterns have roiled commodity markets. Tea is the world’s most popular beverage, with about 3.7 billion cups consumed daily. But the pandemic has caused sharp drops in tea consumption at restaurants and cafes while leaving people to brew more tea at home. At the same time, bad weather in some producer countries, labor shortages and transport disruptions have strained supplies. Shipments from Sri Lanka, the world’s third-largest tea exporter, have dropped 10% after a severe drought, although recent rainfall suggests a turnaround may be brewing. The American Trucking Associations’ seasonally adjusted for-hire truck tonnage index in August, down 5.6% from July. Purchasing-manager surveys in Europe and Asia point to a decline in service sector activity during September while the U.S. extends a steady recovery. Quarterly sales at General Mills rose 10% but the food supplier says the coronavirus-fueled surge in grocery sales is waning. Nike expects its inflated inventories return to prior-year levels in the next 60 days. Volkswagen is launching an electric sport utility-vehicle aimed at challenging Tesla. China’s Geely Automotive will sell a system for building electric cars to the auto maker’s rivals. The U.K. says truck drivers at the English Channel will face new customs controls starting in January even if no trade deal is reached with the European Union. The world’s largest group of shipping insurers won't insure vessels involved in two Russian-led gas pipeline projects because of the threat of U.S. sanctions. Miner Rio Tinto plans to start blending iron ore at a transshipment hub at China’s Dalian port. Trans-Pacific container shipping rates are showing signs of peaking near record highs, following recent threats of government intervention. A shortage of smaller container ships is driving up charter rates for the vessels. Walmart will start offering credit to some third-party sellers on its e-commerce marketplace. (Northwest Arkansas Democrat-Gazette) Walmart will work with DroneUp to deliver Covid-19 self-collection kits by drone in two U.S. markets. Mack Trucks began production of a new medium-duty truck model at its Roanoke Valley, Va., plant after a two-month delay. An analyst report says Amazon will be able to offer same- and next-day delivery to 65% to 70% of U.S. homes through its own logistics network within two years. French logistics provider Gefco says it came under a cyberattack and is working to “resolve the issue.” Henri de Romrée resigned as chief executive of Bpost’s North American parcel and logistics division, including leadership of logistics provider Radial. (DH) Canadian exports of crude oil by rail fell to another eight-year low in July.\""
      ]
     },
     "execution_count": 27,
     "metadata": {},
     "output_type": "execute_result"
    }
   ],
   "source": [
    "news_df.iloc[0][\"news_cleaned\"]"
   ]
  },
  {
   "cell_type": "code",
   "execution_count": null,
   "metadata": {},
   "outputs": [],
   "source": []
  }
 ],
 "metadata": {
  "kernelspec": {
   "display_name": "wsj_tweet_scrapping",
   "language": "python",
   "name": "wsj_tweet_scrapping"
  },
  "language_info": {
   "codemirror_mode": {
    "name": "ipython",
    "version": 3
   },
   "file_extension": ".py",
   "mimetype": "text/x-python",
   "name": "python",
   "nbconvert_exporter": "python",
   "pygments_lexer": "ipython3",
   "version": "3.8.6"
  }
 },
 "nbformat": 4,
 "nbformat_minor": 4
}
