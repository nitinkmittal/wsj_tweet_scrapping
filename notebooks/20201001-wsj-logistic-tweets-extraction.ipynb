{
 "cells": [
  {
   "cell_type": "code",
   "execution_count": 2,
   "metadata": {},
   "outputs": [],
   "source": [
    "%load_ext autoreload\n",
    "%autoreload 2"
   ]
  },
  {
   "cell_type": "code",
   "execution_count": 7,
   "metadata": {},
   "outputs": [],
   "source": [
    "from twitterscraper import query_tweets\n",
    "import datetime as dt\n",
    "import pandas as pd\n",
    "from os import getcwd\n",
    "from tqdm import tqdm\n",
    "from time import sleep"
   ]
  },
  {
   "cell_type": "code",
   "execution_count": 3,
   "metadata": {},
   "outputs": [],
   "source": [
    "PROJECT_NAME = \"wsj_tweet_scrapping\"\n",
    "PROJECT_PATH = getcwd()[: getcwd().find(PROJECT_NAME) + len(PROJECT_NAME)]\n",
    "DATA_PATH = f\"{PROJECT_PATH}\\\\data\"\n",
    "EXCEL_PATH = f\"{DATA_PATH}\\\\excel\""
   ]
  },
  {
   "cell_type": "code",
   "execution_count": 4,
   "metadata": {},
   "outputs": [],
   "source": [
    "def get_monthly_wsj_tweets(year, month, day):\n",
    "    start_date = dt.date(year=year, month=month, day=day)\n",
    "#     end_date = dt.date(year=2020, month=month+1, day=1)\n",
    "    results = query_tweets(query= \"from%3AWSJLogistics\",\n",
    "                           begindate=start_date, \n",
    "                           enddate=start_date + dt.timedelta(1),\n",
    "                           limit=None)\n",
    "    return results"
   ]
  },
  {
   "cell_type": "code",
   "execution_count": 5,
   "metadata": {},
   "outputs": [],
   "source": [
    "year = 2020\n",
    "month = 7"
   ]
  },
  {
   "cell_type": "code",
   "execution_count": 13,
   "metadata": {},
   "outputs": [
    {
     "name": "stderr",
     "output_type": "stream",
     "text": [
      "Day : 30: 100%|████████████████████████████████████████████████████████████████████████| 30/30 [09:17<00:00, 18.57s/it]\n"
     ]
    }
   ],
   "source": [
    "all_results = []\n",
    "t = tqdm(range(1, 31))\n",
    "for i in t:\n",
    "    t.set_description(f\"Day : {i}\")\n",
    "    all_results.append(get_monthly_wsj_tweets(year, month, i))"
   ]
  },
  {
   "cell_type": "code",
   "execution_count": null,
   "metadata": {},
   "outputs": [],
   "source": [
    "all_tweets = []\n",
    "for daily_tweets in all_results:\n",
    "    for tweet in daily_tweets:\n",
    "        all_tweets.append(tweet)\n",
    "all_tweets = pd.DataFrame(tweet.__dict__ for tweet in all_tweets)\n",
    "file_name = f\"wsj_logistics_tweets_{year}_{str(month).rjust(2,'0')}\"\n",
    "all_tweets.to_excel(f\"{EXCEL_PATH}\\\\{file_name}.xlsx\", index=False)"
   ]
  },
  {
   "cell_type": "code",
   "execution_count": null,
   "metadata": {},
   "outputs": [],
   "source": []
  }
 ],
 "metadata": {
  "kernelspec": {
   "display_name": "wsj_tweet_scrapping",
   "language": "python",
   "name": "wsj_tweet_scrapping"
  },
  "language_info": {
   "codemirror_mode": {
    "name": "ipython",
    "version": 3
   },
   "file_extension": ".py",
   "mimetype": "text/x-python",
   "name": "python",
   "nbconvert_exporter": "python",
   "pygments_lexer": "ipython3",
   "version": "3.8.5"
  }
 },
 "nbformat": 4,
 "nbformat_minor": 4
}
