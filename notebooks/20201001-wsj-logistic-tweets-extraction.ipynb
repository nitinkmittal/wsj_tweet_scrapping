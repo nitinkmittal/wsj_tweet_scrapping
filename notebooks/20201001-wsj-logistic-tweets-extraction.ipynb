{
 "cells": [
  {
   "cell_type": "code",
   "execution_count": 1,
   "metadata": {},
   "outputs": [],
   "source": [
    "%load_ext autoreload\n",
    "%autoreload 2"
   ]
  },
  {
   "cell_type": "code",
   "execution_count": 2,
   "metadata": {},
   "outputs": [],
   "source": [
    "from twitterscraper import query_tweets\n",
    "import datetime as dt\n",
    "import pandas as pd\n",
    "from os import getcwd\n",
    "from tqdm import tqdm\n",
    "from time import sleep"
   ]
  },
  {
   "cell_type": "code",
   "execution_count": 3,
   "metadata": {},
   "outputs": [],
   "source": [
    "PROJECT_NAME = \"wsj_tweet_scrapping\"\n",
    "PROJECT_PATH = getcwd()[: getcwd().find(PROJECT_NAME) + len(PROJECT_NAME)]\n",
    "DATA_PATH = f\"{PROJECT_PATH}\\\\data\"\n",
    "EXCEL_PATH = f\"{DATA_PATH}\\\\excel\""
   ]
  },
  {
   "cell_type": "code",
   "execution_count": 19,
   "metadata": {},
   "outputs": [],
   "source": [
    "results = query_tweets(query= \"from%3AWSJLogistics\")"
   ]
  },
  {
   "cell_type": "code",
   "execution_count": 21,
   "metadata": {},
   "outputs": [
    {
     "data": {
      "text/plain": [
       "0"
      ]
     },
     "execution_count": 21,
     "metadata": {},
     "output_type": "execute_result"
    }
   ],
   "source": [
    "len(results)"
   ]
  },
  {
   "cell_type": "code",
   "execution_count": 4,
   "metadata": {},
   "outputs": [],
   "source": [
    "def get_monthly_wsj_tweets(year, month, day):\n",
    "    start_date = dt.date(year=year, month=month, day=day)\n",
    "#     end_date = dt.date(year=2020, month=month+1, day=1)\n",
    "    results = query_tweets(query= \"from%3AWSJLogistics\",\n",
    "                           begindate=start_date, \n",
    "                           enddate=start_date + dt.timedelta(1),\n",
    "                           limit=None)\n",
    "    return results"
   ]
  },
  {
   "cell_type": "code",
   "execution_count": 13,
   "metadata": {},
   "outputs": [],
   "source": [
    "year = 2020\n",
    "month = 1"
   ]
  },
  {
   "cell_type": "code",
   "execution_count": 14,
   "metadata": {},
   "outputs": [
    {
     "name": "stderr",
     "output_type": "stream",
     "text": [
      "Day : 30: 100%|████████████████████████████████████████████████████████████████████████| 30/30 [09:27<00:00, 18.91s/it]\n"
     ]
    }
   ],
   "source": [
    "all_results = []\n",
    "t = tqdm(range(1, 31))\n",
    "for i in t:\n",
    "    t.set_description(f\"Day : {i}\")\n",
    "    all_results.append(get_monthly_wsj_tweets(year, month, i))"
   ]
  },
  {
   "cell_type": "code",
   "execution_count": 18,
   "metadata": {},
   "outputs": [
    {
     "data": {
      "text/plain": [
       "[]"
      ]
     },
     "execution_count": 18,
     "metadata": {},
     "output_type": "execute_result"
    }
   ],
   "source": [
    "get_monthly_wsj_tweets(2020, 1, 1)"
   ]
  },
  {
   "cell_type": "code",
   "execution_count": 15,
   "metadata": {},
   "outputs": [
    {
     "name": "stdout",
     "output_type": "stream",
     "text": [
      "found 0 entries for 2020-1\n"
     ]
    }
   ],
   "source": [
    "all_tweets = []\n",
    "for daily_tweets in all_results:\n",
    "    for tweet in daily_tweets:\n",
    "        all_tweets.append(tweet)\n",
    "all_tweets = pd.DataFrame(tweet.__dict__ for tweet in all_tweets)\n",
    "print(f\"found {len(all_tweets)} entries for {year}-{month}\")\n",
    "file_name = f\"wsj_logistics_tweets_{year}_{str(month).rjust(2,'0')}\"\n",
    "all_tweets.to_excel(f\"{EXCEL_PATH}\\\\{file_name}.xlsx\", index=False)"
   ]
  },
  {
   "cell_type": "code",
   "execution_count": 16,
   "metadata": {},
   "outputs": [
    {
     "data": {
      "text/plain": [
       "[[],\n",
       " [],\n",
       " [],\n",
       " [],\n",
       " [],\n",
       " [],\n",
       " [],\n",
       " [],\n",
       " [],\n",
       " [],\n",
       " [],\n",
       " [],\n",
       " [],\n",
       " [],\n",
       " [],\n",
       " [],\n",
       " [],\n",
       " [],\n",
       " [],\n",
       " [],\n",
       " [],\n",
       " [],\n",
       " [],\n",
       " [],\n",
       " [],\n",
       " [],\n",
       " [],\n",
       " [],\n",
       " [],\n",
       " []]"
      ]
     },
     "execution_count": 16,
     "metadata": {},
     "output_type": "execute_result"
    }
   ],
   "source": [
    "all_results"
   ]
  },
  {
   "cell_type": "code",
   "execution_count": 1,
   "metadata": {},
   "outputs": [],
   "source": [
    "import twint"
   ]
  },
  {
   "cell_type": "code",
   "execution_count": 3,
   "metadata": {},
   "outputs": [],
   "source": [
    "import nest_asyncio\n",
    "nest_asyncio.apply()\n",
    "config = twint.Config()\n",
    "config.Search = \"from:WSJLogistics\"\n",
    "config.Since = \"2020-09-01\"\n",
    "config.Until = \"2020-10-01\"\n",
    "config.Limit = 10\n",
    "twint.run.Search(config)\n",
    "tlist = config.search_tweet_list\n",
    "# # print(\"hacked that out\")"
   ]
  },
  {
   "cell_type": "code",
   "execution_count": 33,
   "metadata": {},
   "outputs": [
    {
     "data": {
      "text/plain": [
       "60"
      ]
     },
     "execution_count": 33,
     "metadata": {},
     "output_type": "execute_result"
    }
   ],
   "source": [
    "len(c.search_tweet_list)"
   ]
  },
  {
   "cell_type": "code",
   "execution_count": 4,
   "metadata": {},
   "outputs": [
    {
     "data": {
      "text/plain": [
       "[{'all-data': '<table class=\"tweet\" href=\"/WSJLogistics/status/1309123013057622016?p=v\">\\n<tr class=\"tweet-header\">\\n<td class=\"avatar\" rowspan=\"3\">\\n<a href=\"/WSJLogistics?p=i\">\\n<img alt=\"WSJ Logistics Report\" src=\"https://pbs.twimg.com/profile_images/954404125848014848/Xk6aVfEb_normal.jpg\"/>\\n</a>\\n</td>\\n<td class=\"user-info\">\\n<a href=\"/WSJLogistics?p=s\">\\n<strong class=\"fullname\">WSJ Logistics Report</strong>\\n<div class=\"username\">\\n<span>@</span>WSJLogistics\\n    </div>\\n</a>\\n</td>\\n<td class=\"timestamp\">\\n<a href=\"/WSJLogistics/status/1309123013057622016?p=p\" name=\"tweet_1309123013057622016\">Sep 24</a>\\n</td>\\n</tr>\\n<tr class=\"tweet-container\">\\n<td class=\"tweet-content\" colspan=\"2\">\\n<div class=\"tweet-text\" data-id=\"1309123013057622016\">\\n<div class=\"dir-ltr\" dir=\"ltr\">  Today’s newsletter - Cleaning Vehicle Emissions; Nikola’s Stalled Partners; Steeper Tea Prices\\n<a class=\"twitter_external_link dir-ltr tco-link\" data-expanded-url=\"https://on.wsj.com/2EuJDdb\" data-url=\"https://on.wsj.com/2EuJDdb\" dir=\"ltr\" href=\"https://t.co/ChRY9h60z1\" rel=\"nofollow noopener\" target=\"_blank\" title=\"https://on.wsj.com/2EuJDdb\">on.wsj.com/2EuJDdb</a>\\nvia <a class=\"twitter-atreply dir-ltr\" data-mentioned-user-id=\"28137737\" data-screenname=\"WSJLogistics\" dir=\"ltr\" href=\"/WSJLogistics\">@WSJLogistics</a> <a class=\"twitter_external_link dir-ltr tco-link has-expanded-path\" data-entity-id=\"1309123009375072257\" data-expanded-path=\"/WSJLogistics/status/1309123013057622016/photo/1\" data-pre-embedded=\"true\" data-tco-id=\"RJ3Wnk4sH9\" data-url=\"https://twitter.com/WSJLogistics/status/1309123013057622016/photo/1\" dir=\"ltr\" href=\"https://t.co/RJ3Wnk4sH9\" rel=\"nofollow\" target=\"_top\">pic.twitter.com/RJ3Wnk4sH9</a>\\n</div>\\n</div>\\n</td>\\n</tr>\\n<tr>\\n<td class=\"meta-and-actions\" colspan=\"2\">\\n<div class=\"card-photo\">\\n<div class=\"media\">\\n<img height=\"133\" src=\"https://pbs.twimg.com/media/EirwcOUXcAEZab3.jpg:small\" width=\"200\"/>\\n</div>\\n<div class=\"description\"> </div>\\n</div>\\n<span class=\"metadata\">\\n<a href=\"/WSJLogistics/status/1309123013057622016?p=v\">View photo</a>\\n<span class=\"middot\">·</span>\\n</span>\\n<span class=\"tweet-actions\">\\n<a class=\"first\" href=\"/WSJLogistics/reply/1309123013057622016?p=r\">\\n<img alt=\"Reply\" src=\"https://ma.twimg.com/twitter-mobile/a8491f04da4e54be98cff3a86c58f23a770c26bd/images/sprites/tweet_reply.gif\"/>\\n</a>\\n<a href=\"/statuses/1309123013057622016/retweet?p=t\">\\n<img alt=\"Retweet\" src=\"https://ma.twimg.com/twitter-mobile/a8491f04da4e54be98cff3a86c58f23a770c26bd/images/sprites/tweet_rt.gif\"/>\\n</a>\\n<a class=\"favorite\" href=\"/statuses/1309123013057622016/favorite?p=f&amp;authenticity_token=2b7e26cb1e8e4b09978b2591e348a6cd821c37f6\">\\n<img alt=\"Like\" src=\"https://ma.twimg.com/twitter-mobile/a8491f04da4e54be98cff3a86c58f23a770c26bd/images/sprites/tweet_heart.gif\"/>\\n</a>\\n<a class=\"last\" href=\"/WSJLogistics/status/1309123013057622016/actions\"></a>\\n</span>\\n</td>\\n</tr>\\n</table>',\n",
       "  'data-item-id': '1309123013057622016',\n",
       "  'data-conversation-id': '1309123013057622016',\n",
       "  'username': '@WSJLogistics',\n",
       "  'tweet': '  Today’s newsletter - Cleaning Vehicle Emissions; Nikola’s Stalled Partners; Steeper Tea Prices\\non.wsj.com/2EuJDdb\\nvia @WSJLogistics pic.twitter.com/RJ3Wnk4sH9\\n',\n",
       "  'avatar': 'https://pbs.twimg.com/profile_images/954404125848014848/Xk6aVfEb_normal.jpg',\n",
       "  'date': '2020-09-24'},\n",
       " {'all-data': '<table class=\"tweet\" href=\"/WSJLogistics/status/1306223859855753218?p=v\">\\n<tr class=\"tweet-header\">\\n<td class=\"avatar\" rowspan=\"3\">\\n<a href=\"/WSJLogistics?p=i\">\\n<img alt=\"WSJ Logistics Report\" src=\"https://pbs.twimg.com/profile_images/954404125848014848/Xk6aVfEb_normal.jpg\">\\n</img></a>\\n</td>\\n<td class=\"user-info\">\\n<a href=\"/WSJLogistics?p=s\">\\n<strong class=\"fullname\">WSJ Logistics Report</strong>\\n<div class=\"username\">\\n<span>@</span>WSJLogistics\\n    </div>\\n</a>\\n</td>\\n<td class=\"timestamp\">\\n<a href=\"/WSJLogistics/status/1306223859855753218?p=p\" name=\"tweet_1306223859855753218\">Sep 16</a>\\n</td>\\n</tr>\\n<tr class=\"tweet-container\">\\n<td class=\"tweet-content\" colspan=\"2\">\\n<div class=\"tweet-text\" data-id=\"1306223859855753218\">\\n<div class=\"dir-ltr\" dir=\"ltr\">  FedEx\\'s Christmas in July; Probing Nikola Claims; Grocery’s Robotics Lag: Today’s Top Supply Chain &amp; News\\n<a class=\"twitter_external_link dir-ltr tco-link\" data-expanded-url=\"https://on.wsj.com/2Fsewzz\" data-url=\"https://on.wsj.com/2Fsewzz\" dir=\"ltr\" href=\"https://t.co/b5xByFNu8Q\" rel=\"nofollow noopener\" target=\"_blank\" title=\"https://on.wsj.com/2Fsewzz\">on.wsj.com/2Fsewzz</a>\\nvia <a class=\"twitter-atreply dir-ltr\" data-mentioned-user-id=\"3108351\" data-screenname=\"WSJ\" dir=\"ltr\" href=\"/WSJ\">@WSJ</a> <a class=\"twitter_external_link dir-ltr tco-link has-expanded-path\" data-entity-id=\"1306223856231866370\" data-expanded-path=\"/WSJLogistics/status/1306223859855753218/photo/1\" data-pre-embedded=\"true\" data-tco-id=\"RVkCxEKVln\" data-url=\"https://twitter.com/WSJLogistics/status/1306223859855753218/photo/1\" dir=\"ltr\" href=\"https://t.co/RVkCxEKVln\" rel=\"nofollow\" target=\"_top\">pic.twitter.com/RVkCxEKVln</a>\\n</div>\\n</div>\\n</td>\\n</tr>\\n<tr>\\n<td class=\"meta-and-actions\" colspan=\"2\">\\n<div class=\"card-photo\">\\n<div class=\"media\">\\n<img height=\"130\" src=\"https://pbs.twimg.com/media/EiCjrTPXYAI26cc.jpg:small\" width=\"200\">\\n</img></div>\\n<div class=\"description\"> </div>\\n</div>\\n<span class=\"metadata\">\\n<a href=\"/WSJLogistics/status/1306223859855753218?p=v\">View photo</a>\\n<span class=\"middot\">·</span>\\n</span>\\n<span class=\"tweet-actions\">\\n<a class=\"first\" href=\"/WSJLogistics/reply/1306223859855753218?p=r\">\\n<img alt=\"Reply\" src=\"https://ma.twimg.com/twitter-mobile/a8491f04da4e54be98cff3a86c58f23a770c26bd/images/sprites/tweet_reply.gif\"/>\\n</a>\\n<a href=\"/statuses/1306223859855753218/retweet?p=t\">\\n<img alt=\"Retweet\" src=\"https://ma.twimg.com/twitter-mobile/a8491f04da4e54be98cff3a86c58f23a770c26bd/images/sprites/tweet_rt.gif\"/>\\n</a>\\n<a class=\"favorite\" href=\"/statuses/1306223859855753218/favorite?p=f&amp;authenticity_token=2b7e26cb1e8e4b09978b2591e348a6cd821c37f6\">\\n<img alt=\"Like\" src=\"https://ma.twimg.com/twitter-mobile/a8491f04da4e54be98cff3a86c58f23a770c26bd/images/sprites/tweet_heart.gif\"/>\\n</a>\\n<a class=\"last\" href=\"/WSJLogistics/status/1306223859855753218/actions\"></a>\\n</span>\\n</td>\\n</tr>\\n</table>',\n",
       "  'data-item-id': '1306223859855753218',\n",
       "  'data-conversation-id': '1306223859855753218',\n",
       "  'username': '@WSJLogistics',\n",
       "  'tweet': \"  FedEx's Christmas in July; Probing Nikola Claims; Grocery’s Robotics Lag: Today’s Top Supply Chain & News\\non.wsj.com/2Fsewzz\\nvia @WSJ pic.twitter.com/RVkCxEKVln\\n\",\n",
       "  'avatar': 'https://pbs.twimg.com/profile_images/954404125848014848/Xk6aVfEb_normal.jpg',\n",
       "  'date': '2020-09-16'},\n",
       " {'all-data': '<table class=\"tweet\" href=\"/WSJLogistics/status/1305500577133203456?p=v\">\\n<tr class=\"tweet-header\">\\n<td class=\"avatar\" rowspan=\"3\">\\n<a href=\"/WSJLogistics?p=i\">\\n<img alt=\"WSJ Logistics Report\" src=\"https://pbs.twimg.com/profile_images/954404125848014848/Xk6aVfEb_normal.jpg\">\\n</img></a>\\n</td>\\n<td class=\"user-info\">\\n<a href=\"/WSJLogistics?p=s\">\\n<strong class=\"fullname\">WSJ Logistics Report</strong>\\n<div class=\"username\">\\n<span>@</span>WSJLogistics\\n    </div>\\n</a>\\n</td>\\n<td class=\"timestamp\">\\n<a href=\"/WSJLogistics/status/1305500577133203456?p=p\" name=\"tweet_1305500577133203456\">Sep 14</a>\\n</td>\\n</tr>\\n<tr class=\"tweet-container\">\\n<td class=\"tweet-content\" colspan=\"2\">\\n<div class=\"tweet-text\" data-id=\"1305500577133203456\">\\n<div class=\"dir-ltr\" dir=\"ltr\">  Shipping’s E-Commerce Drive; Short-Selling Nikola; Trucking’s Cyber Guards: Today’s Top Supply Chain &amp; Logistics News\\n<a class=\"twitter_external_link dir-ltr tco-link\" data-expanded-url=\"https://on.wsj.com/3iv2qDW\" data-url=\"https://on.wsj.com/3iv2qDW\" dir=\"ltr\" href=\"https://t.co/lBL3NTdacu\" rel=\"nofollow noopener\" target=\"_blank\" title=\"https://on.wsj.com/3iv2qDW\">on.wsj.com/3iv2qDW</a>\\nvia <a class=\"twitter-atreply dir-ltr\" data-mentioned-user-id=\"3108351\" data-screenname=\"WSJ\" dir=\"ltr\" href=\"/WSJ\">@WSJ</a> <a class=\"twitter_external_link dir-ltr tco-link has-expanded-path\" data-entity-id=\"1305500572775260164\" data-expanded-path=\"/WSJLogistics/status/1305500577133203456/photo/1\" data-pre-embedded=\"true\" data-tco-id=\"hpdPDdcld7\" data-url=\"https://twitter.com/WSJLogistics/status/1305500577133203456/photo/1\" dir=\"ltr\" href=\"https://t.co/hpdPDdcld7\" rel=\"nofollow\" target=\"_top\">pic.twitter.com/hpdPDdcld7</a>\\n</div>\\n</div>\\n</td>\\n</tr>\\n<tr>\\n<td class=\"meta-and-actions\" colspan=\"2\">\\n<div class=\"card-photo\">\\n<div class=\"media\">\\n<img height=\"133\" src=\"https://pbs.twimg.com/media/Eh4R2qZWoAQK7GA.jpg:small\" width=\"200\">\\n</img></div>\\n<div class=\"description\"> </div>\\n</div>\\n<span class=\"metadata\">\\n<a href=\"/WSJLogistics/status/1305500577133203456?p=v\">View photo</a>\\n<span class=\"middot\">·</span>\\n</span>\\n<span class=\"tweet-actions\">\\n<a class=\"first\" href=\"/WSJLogistics/reply/1305500577133203456?p=r\">\\n<img alt=\"Reply\" src=\"https://ma.twimg.com/twitter-mobile/a8491f04da4e54be98cff3a86c58f23a770c26bd/images/sprites/tweet_reply.gif\"/>\\n</a>\\n<a href=\"/statuses/1305500577133203456/retweet?p=t\">\\n<img alt=\"Retweet\" src=\"https://ma.twimg.com/twitter-mobile/a8491f04da4e54be98cff3a86c58f23a770c26bd/images/sprites/tweet_rt.gif\"/>\\n</a>\\n<a class=\"favorite\" href=\"/statuses/1305500577133203456/favorite?p=f&amp;authenticity_token=2b7e26cb1e8e4b09978b2591e348a6cd821c37f6\">\\n<img alt=\"Like\" src=\"https://ma.twimg.com/twitter-mobile/a8491f04da4e54be98cff3a86c58f23a770c26bd/images/sprites/tweet_heart.gif\"/>\\n</a>\\n<a class=\"last\" href=\"/WSJLogistics/status/1305500577133203456/actions\"></a>\\n</span>\\n</td>\\n</tr>\\n</table>',\n",
       "  'data-item-id': '1305500577133203456',\n",
       "  'data-conversation-id': '1305500577133203456',\n",
       "  'username': '@WSJLogistics',\n",
       "  'tweet': '  Shipping’s E-Commerce Drive; Short-Selling Nikola; Trucking’s Cyber Guards: Today’s Top Supply Chain & Logistics News\\non.wsj.com/3iv2qDW\\nvia @WSJ pic.twitter.com/hpdPDdcld7\\n',\n",
       "  'avatar': 'https://pbs.twimg.com/profile_images/954404125848014848/Xk6aVfEb_normal.jpg',\n",
       "  'date': '2020-09-14'},\n",
       " {'all-data': '<table class=\"tweet\" href=\"/WSJLogistics/status/1304230721146380290?p=v\">\\n<tr class=\"tweet-header\">\\n<td class=\"avatar\" rowspan=\"3\">\\n<a href=\"/WSJLogistics?p=i\">\\n<img alt=\"WSJ Logistics Report\" src=\"https://pbs.twimg.com/profile_images/954404125848014848/Xk6aVfEb_normal.jpg\">\\n</img></a>\\n</td>\\n<td class=\"user-info\">\\n<a href=\"/WSJLogistics?p=s\">\\n<strong class=\"fullname\">WSJ Logistics Report</strong>\\n<div class=\"username\">\\n<span>@</span>WSJLogistics\\n    </div>\\n</a>\\n</td>\\n<td class=\"timestamp\">\\n<a href=\"/WSJLogistics/status/1304230721146380290?p=p\" name=\"tweet_1304230721146380290\">Sep 10</a>\\n</td>\\n</tr>\\n<tr class=\"tweet-container\">\\n<td class=\"tweet-content\" colspan=\"2\">\\n<div class=\"tweet-text\" data-id=\"1304230721146380290\">\\n<div class=\"dir-ltr\" dir=\"ltr\">  Brexit’s New Alarms; Railroad Offloads Bidders; Tighter Inventory Fit: Today’s Top Supply Chain &amp; Logistics News <a class=\"twitter_external_link dir-ltr tco-link\" data-expanded-url=\"https://on.wsj.com/3inRU1m\" data-url=\"https://on.wsj.com/3inRU1m\" dir=\"ltr\" href=\"https://t.co/6z67y3lGl2\" rel=\"nofollow noopener\" target=\"_blank\" title=\"https://on.wsj.com/3inRU1m\">on.wsj.com/3inRU1m</a>\\nvia <a class=\"twitter-atreply dir-ltr\" data-mentioned-user-id=\"3108351\" data-screenname=\"WSJ\" dir=\"ltr\" href=\"/WSJ\">@WSJ</a> <a class=\"twitter_external_link dir-ltr tco-link has-expanded-path\" data-entity-id=\"1304230716671168514\" data-expanded-path=\"/WSJLogistics/status/1304230721146380290/photo/1\" data-pre-embedded=\"true\" data-tco-id=\"xJAqdkzvmi\" data-url=\"https://twitter.com/WSJLogistics/status/1304230721146380290/photo/1\" dir=\"ltr\" href=\"https://t.co/xJAqdkzvmi\" rel=\"nofollow\" target=\"_top\">pic.twitter.com/xJAqdkzvmi</a>\\n</div>\\n</div>\\n</td>\\n</tr>\\n<tr>\\n<td class=\"meta-and-actions\" colspan=\"2\">\\n<div class=\"card-photo\">\\n<div class=\"media\">\\n<img height=\"122\" src=\"https://pbs.twimg.com/media/EhmO7TxWkAI1RRV.jpg:small\" width=\"200\">\\n</img></div>\\n<div class=\"description\"> </div>\\n</div>\\n<span class=\"metadata\">\\n<a href=\"/WSJLogistics/status/1304230721146380290?p=v\">View photo</a>\\n<span class=\"middot\">·</span>\\n</span>\\n<span class=\"tweet-actions\">\\n<a class=\"first\" href=\"/WSJLogistics/reply/1304230721146380290?p=r\">\\n<img alt=\"Reply\" src=\"https://ma.twimg.com/twitter-mobile/a8491f04da4e54be98cff3a86c58f23a770c26bd/images/sprites/tweet_reply.gif\"/>\\n</a>\\n<a href=\"/statuses/1304230721146380290/retweet?p=t\">\\n<img alt=\"Retweet\" src=\"https://ma.twimg.com/twitter-mobile/a8491f04da4e54be98cff3a86c58f23a770c26bd/images/sprites/tweet_rt.gif\"/>\\n</a>\\n<a class=\"favorite\" href=\"/statuses/1304230721146380290/favorite?p=f&amp;authenticity_token=2b7e26cb1e8e4b09978b2591e348a6cd821c37f6\">\\n<img alt=\"Like\" src=\"https://ma.twimg.com/twitter-mobile/a8491f04da4e54be98cff3a86c58f23a770c26bd/images/sprites/tweet_heart.gif\"/>\\n</a>\\n<a class=\"last\" href=\"/WSJLogistics/status/1304230721146380290/actions\"></a>\\n</span>\\n</td>\\n</tr>\\n</table>',\n",
       "  'data-item-id': '1304230721146380290',\n",
       "  'data-conversation-id': '1304230721146380290',\n",
       "  'username': '@WSJLogistics',\n",
       "  'tweet': '  Brexit’s New Alarms; Railroad Offloads Bidders; Tighter Inventory Fit: Today’s Top Supply Chain & Logistics News on.wsj.com/3inRU1m\\nvia @WSJ pic.twitter.com/xJAqdkzvmi\\n',\n",
       "  'avatar': 'https://pbs.twimg.com/profile_images/954404125848014848/Xk6aVfEb_normal.jpg',\n",
       "  'date': '2020-09-10'},\n",
       " {'all-data': '<table class=\"tweet\" href=\"/WSJLogistics/status/1308758522033823750?p=v\">\\n<tr class=\"tweet-header\">\\n<td class=\"avatar\" rowspan=\"3\">\\n<a href=\"/WSJLogistics?p=i\">\\n<img alt=\"WSJ Logistics Report\" src=\"https://pbs.twimg.com/profile_images/954404125848014848/Xk6aVfEb_normal.jpg\">\\n</img></a>\\n</td>\\n<td class=\"user-info\">\\n<a href=\"/WSJLogistics?p=s\">\\n<strong class=\"fullname\">WSJ Logistics Report</strong>\\n<div class=\"username\">\\n<span>@</span>WSJLogistics\\n    </div>\\n</a>\\n</td>\\n<td class=\"timestamp\">\\n<a href=\"/WSJLogistics/status/1308758522033823750?p=p\" name=\"tweet_1308758522033823750\">Sep 23</a>\\n</td>\\n</tr>\\n<tr class=\"tweet-container\">\\n<td class=\"tweet-content\" colspan=\"2\">\\n<div class=\"tweet-text\" data-id=\"1308758522033823750\">\\n<div class=\"dir-ltr\" dir=\"ltr\">  Airlines Turn to Freight; Driving Robot Trucks; Trade Insurance Faltering: Today’s Top Supply Chain News:\\n<a class=\"twitter_external_link dir-ltr tco-link\" data-expanded-url=\"https://on.wsj.com/32TvO1a\" data-url=\"https://on.wsj.com/32TvO1a\" dir=\"ltr\" href=\"https://t.co/dMsuVwceLj\" rel=\"nofollow noopener\" target=\"_blank\" title=\"https://on.wsj.com/32TvO1a\">on.wsj.com/32TvO1a</a>\\nvia <a class=\"twitter-atreply dir-ltr\" data-mentioned-user-id=\"3108351\" data-screenname=\"WSJ\" dir=\"ltr\" href=\"/WSJ\">@WSJ</a> <a class=\"twitter_external_link dir-ltr tco-link has-expanded-path\" data-entity-id=\"1308758519760519173\" data-expanded-path=\"/WSJLogistics/status/1308758522033823750/photo/1\" data-pre-embedded=\"true\" data-tco-id=\"7cL7ea4FHf\" data-url=\"https://twitter.com/WSJLogistics/status/1308758522033823750/photo/1\" dir=\"ltr\" href=\"https://t.co/7cL7ea4FHf\" rel=\"nofollow\" target=\"_top\">pic.twitter.com/7cL7ea4FHf</a>\\n</div>\\n</div>\\n</td>\\n</tr>\\n<tr>\\n<td class=\"meta-and-actions\" colspan=\"2\">\\n<div class=\"card-photo\">\\n<div class=\"media\">\\n<img height=\"133\" src=\"https://pbs.twimg.com/media/Eimk8IsXgAU18Ju.jpg:small\" width=\"200\">\\n</img></div>\\n<div class=\"description\"> </div>\\n</div>\\n<span class=\"metadata\">\\n<a href=\"/WSJLogistics/status/1308758522033823750?p=v\">View photo</a>\\n<span class=\"middot\">·</span>\\n</span>\\n<span class=\"tweet-actions\">\\n<a class=\"first\" href=\"/WSJLogistics/reply/1308758522033823750?p=r\">\\n<img alt=\"Reply\" src=\"https://ma.twimg.com/twitter-mobile/a8491f04da4e54be98cff3a86c58f23a770c26bd/images/sprites/tweet_reply.gif\"/>\\n</a>\\n<a href=\"/statuses/1308758522033823750/retweet?p=t\">\\n<img alt=\"Retweet\" src=\"https://ma.twimg.com/twitter-mobile/a8491f04da4e54be98cff3a86c58f23a770c26bd/images/sprites/tweet_rt.gif\"/>\\n</a>\\n<a class=\"favorite\" href=\"/statuses/1308758522033823750/favorite?p=f&amp;authenticity_token=2b7e26cb1e8e4b09978b2591e348a6cd821c37f6\">\\n<img alt=\"Like\" src=\"https://ma.twimg.com/twitter-mobile/a8491f04da4e54be98cff3a86c58f23a770c26bd/images/sprites/tweet_heart.gif\"/>\\n</a>\\n<a class=\"last\" href=\"/WSJLogistics/status/1308758522033823750/actions\"></a>\\n</span>\\n</td>\\n</tr>\\n</table>',\n",
       "  'data-item-id': '1308758522033823750',\n",
       "  'data-conversation-id': '1308758522033823750',\n",
       "  'username': '@WSJLogistics',\n",
       "  'tweet': '  Airlines Turn to Freight; Driving Robot Trucks; Trade Insurance Faltering: Today’s Top Supply Chain News:\\non.wsj.com/32TvO1a\\nvia @WSJ pic.twitter.com/7cL7ea4FHf\\n',\n",
       "  'avatar': 'https://pbs.twimg.com/profile_images/954404125848014848/Xk6aVfEb_normal.jpg',\n",
       "  'date': '2020-09-23'},\n",
       " {'all-data': '<table class=\"tweet\" href=\"/WSJLogistics/status/1306769185289142273?p=v\">\\n<tr class=\"tweet-header\">\\n<td class=\"avatar\" rowspan=\"3\">\\n<a href=\"/WSJLogistics?p=i\">\\n<img alt=\"WSJ Logistics Report\" src=\"https://pbs.twimg.com/profile_images/954404125848014848/Xk6aVfEb_normal.jpg\">\\n</img></a>\\n</td>\\n<td class=\"user-info\">\\n<a href=\"/WSJLogistics?p=s\">\\n<strong class=\"fullname\">WSJ Logistics Report</strong>\\n<div class=\"username\">\\n<span>@</span>WSJLogistics\\n    </div>\\n</a>\\n</td>\\n<td class=\"timestamp\">\\n<a href=\"/WSJLogistics/status/1306769185289142273?p=p\" name=\"tweet_1306769185289142273\">Sep 17</a>\\n</td>\\n</tr>\\n<tr class=\"tweet-container\">\\n<td class=\"tweet-content\" colspan=\"2\">\\n<div class=\"tweet-text\" data-id=\"1306769185289142273\">\\n<div class=\"dir-ltr\" dir=\"ltr\">  Shipping Trade Heads East; Coal’s Slower Burn; Turnaround for LNG: Today’s Top Supply Chain &amp; Logistics News\\n<a class=\"twitter_external_link dir-ltr tco-link\" data-expanded-url=\"https://on.wsj.com/35XWtvZ\" data-url=\"https://on.wsj.com/35XWtvZ\" dir=\"ltr\" href=\"https://t.co/MLX9v2pqAV\" rel=\"nofollow noopener\" target=\"_blank\" title=\"https://on.wsj.com/35XWtvZ\">on.wsj.com/35XWtvZ</a>\\nvia <a class=\"twitter-atreply dir-ltr\" data-mentioned-user-id=\"3108351\" data-screenname=\"WSJ\" dir=\"ltr\" href=\"/WSJ\">@WSJ</a> <a class=\"twitter_external_link dir-ltr tco-link has-expanded-path\" data-entity-id=\"1306769183477248006\" data-expanded-path=\"/WSJLogistics/status/1306769185289142273/photo/1\" data-pre-embedded=\"true\" data-tco-id=\"oCRD4w8uUt\" data-url=\"https://twitter.com/WSJLogistics/status/1306769185289142273/photo/1\" dir=\"ltr\" href=\"https://t.co/oCRD4w8uUt\" rel=\"nofollow\" target=\"_top\">pic.twitter.com/oCRD4w8uUt</a>\\n</div>\\n</div>\\n</td>\\n</tr>\\n<tr>\\n<td class=\"meta-and-actions\" colspan=\"2\">\\n<div class=\"card-photo\">\\n<div class=\"media\">\\n<img height=\"133\" src=\"https://pbs.twimg.com/media/EiKTphiWsAYGwww.jpg:small\" width=\"200\">\\n</img></div>\\n<div class=\"description\"> </div>\\n</div>\\n<span class=\"metadata\">\\n<a href=\"/WSJLogistics/status/1306769185289142273?p=v\">View photo</a>\\n<span class=\"middot\">·</span>\\n</span>\\n<span class=\"tweet-actions\">\\n<a class=\"first\" href=\"/WSJLogistics/reply/1306769185289142273?p=r\">\\n<img alt=\"Reply\" src=\"https://ma.twimg.com/twitter-mobile/a8491f04da4e54be98cff3a86c58f23a770c26bd/images/sprites/tweet_reply.gif\"/>\\n</a>\\n<a href=\"/statuses/1306769185289142273/retweet?p=t\">\\n<img alt=\"Retweet\" src=\"https://ma.twimg.com/twitter-mobile/a8491f04da4e54be98cff3a86c58f23a770c26bd/images/sprites/tweet_rt.gif\"/>\\n</a>\\n<a class=\"favorite\" href=\"/statuses/1306769185289142273/favorite?p=f&amp;authenticity_token=2b7e26cb1e8e4b09978b2591e348a6cd821c37f6\">\\n<img alt=\"Like\" src=\"https://ma.twimg.com/twitter-mobile/a8491f04da4e54be98cff3a86c58f23a770c26bd/images/sprites/tweet_heart.gif\"/>\\n</a>\\n<a class=\"last\" href=\"/WSJLogistics/status/1306769185289142273/actions\"></a>\\n</span>\\n</td>\\n</tr>\\n</table>',\n",
       "  'data-item-id': '1306769185289142273',\n",
       "  'data-conversation-id': '1306769185289142273',\n",
       "  'username': '@WSJLogistics',\n",
       "  'tweet': '  Shipping Trade Heads East; Coal’s Slower Burn; Turnaround for LNG: Today’s Top Supply Chain & Logistics News\\non.wsj.com/35XWtvZ\\nvia @WSJ pic.twitter.com/oCRD4w8uUt\\n',\n",
       "  'avatar': 'https://pbs.twimg.com/profile_images/954404125848014848/Xk6aVfEb_normal.jpg',\n",
       "  'date': '2020-09-17'},\n",
       " {'all-data': '<table class=\"tweet\" href=\"/WSJLogistics/status/1306042685032194053?p=v\">\\n<tr class=\"tweet-header\">\\n<td class=\"avatar\" rowspan=\"3\">\\n<a href=\"/WSJLogistics?p=i\">\\n<img alt=\"WSJ Logistics Report\" src=\"https://pbs.twimg.com/profile_images/954404125848014848/Xk6aVfEb_normal.jpg\">\\n</img></a>\\n</td>\\n<td class=\"user-info\">\\n<a href=\"/WSJLogistics?p=s\">\\n<strong class=\"fullname\">WSJ Logistics Report</strong>\\n<div class=\"username\">\\n<span>@</span>WSJLogistics\\n    </div>\\n</a>\\n</td>\\n<td class=\"timestamp\">\\n<a href=\"/WSJLogistics/status/1306042685032194053?p=p\" name=\"tweet_1306042685032194053\">Sep 15</a>\\n</td>\\n</tr>\\n<tr class=\"tweet-container\">\\n<td class=\"tweet-content\" colspan=\"2\">\\n<div class=\"tweet-text\" data-id=\"1306042685032194053\">\\n<div class=\"dir-ltr\" dir=\"ltr\">  Amazon’s Hiring Push; Kathryn Farmer to Run BNSF; Halloween’s Sweet Suppliers: Today’s Top Supply Chain News\\n<a class=\"twitter_external_link dir-ltr tco-link\" data-expanded-url=\"https://on.wsj.com/3c4lCGi\" data-url=\"https://on.wsj.com/3c4lCGi\" dir=\"ltr\" href=\"https://t.co/yB8w6WJbPH\" rel=\"nofollow noopener\" target=\"_blank\" title=\"https://on.wsj.com/3c4lCGi\">on.wsj.com/3c4lCGi</a>\\nvia <a class=\"twitter-atreply dir-ltr\" data-mentioned-user-id=\"3108351\" data-screenname=\"WSJ\" dir=\"ltr\" href=\"/WSJ\">@WSJ</a> <a class=\"twitter_external_link dir-ltr tco-link has-expanded-path\" data-entity-id=\"1306042676840722433\" data-expanded-path=\"/WSJLogistics/status/1306042685032194053/photo/1\" data-pre-embedded=\"true\" data-tco-id=\"7nFn7Q9bp9\" data-url=\"https://twitter.com/WSJLogistics/status/1306042685032194053/photo/1\" dir=\"ltr\" href=\"https://t.co/7nFn7Q9bp9\" rel=\"nofollow\" target=\"_top\">pic.twitter.com/7nFn7Q9bp9</a>\\n</div>\\n</div>\\n</td>\\n</tr>\\n<tr>\\n<td class=\"meta-and-actions\" colspan=\"2\">\\n<div class=\"card-photo\">\\n<div class=\"media\">\\n<img height=\"133\" src=\"https://pbs.twimg.com/media/Eh_-5RaXcAE_GXq.jpg:small\" width=\"200\">\\n</img></div>\\n<div class=\"description\"> </div>\\n</div>\\n<span class=\"metadata\">\\n<a href=\"/WSJLogistics/status/1306042685032194053?p=v\">View photo</a>\\n<span class=\"middot\">·</span>\\n</span>\\n<span class=\"tweet-actions\">\\n<a class=\"first\" href=\"/WSJLogistics/reply/1306042685032194053?p=r\">\\n<img alt=\"Reply\" src=\"https://ma.twimg.com/twitter-mobile/a8491f04da4e54be98cff3a86c58f23a770c26bd/images/sprites/tweet_reply.gif\"/>\\n</a>\\n<a href=\"/statuses/1306042685032194053/retweet?p=t\">\\n<img alt=\"Retweet\" src=\"https://ma.twimg.com/twitter-mobile/a8491f04da4e54be98cff3a86c58f23a770c26bd/images/sprites/tweet_rt.gif\"/>\\n</a>\\n<a class=\"favorite\" href=\"/statuses/1306042685032194053/favorite?p=f&amp;authenticity_token=2b7e26cb1e8e4b09978b2591e348a6cd821c37f6\">\\n<img alt=\"Like\" src=\"https://ma.twimg.com/twitter-mobile/a8491f04da4e54be98cff3a86c58f23a770c26bd/images/sprites/tweet_heart.gif\"/>\\n</a>\\n<a class=\"last\" href=\"/WSJLogistics/status/1306042685032194053/actions\"></a>\\n</span>\\n</td>\\n</tr>\\n</table>',\n",
       "  'data-item-id': '1306042685032194053',\n",
       "  'data-conversation-id': '1306042685032194053',\n",
       "  'username': '@WSJLogistics',\n",
       "  'tweet': '  Amazon’s Hiring Push; Kathryn Farmer to Run BNSF; Halloween’s Sweet Suppliers: Today’s Top Supply Chain News\\non.wsj.com/3c4lCGi\\nvia @WSJ pic.twitter.com/7nFn7Q9bp9\\n',\n",
       "  'avatar': 'https://pbs.twimg.com/profile_images/954404125848014848/Xk6aVfEb_normal.jpg',\n",
       "  'date': '2020-09-15'},\n",
       " {'all-data': '<table class=\"tweet\" href=\"/WSJLogistics/status/1303505945654329346?p=v\">\\n<tr class=\"tweet-header\">\\n<td class=\"avatar\" rowspan=\"3\">\\n<a href=\"/WSJLogistics?p=i\">\\n<img alt=\"WSJ Logistics Report\" src=\"https://pbs.twimg.com/profile_images/954404125848014848/Xk6aVfEb_normal.jpg\">\\n</img></a>\\n</td>\\n<td class=\"user-info\">\\n<a href=\"/WSJLogistics?p=s\">\\n<strong class=\"fullname\">WSJ Logistics Report</strong>\\n<div class=\"username\">\\n<span>@</span>WSJLogistics\\n    </div>\\n</a>\\n</td>\\n<td class=\"timestamp\">\\n<a href=\"/WSJLogistics/status/1303505945654329346?p=p\" name=\"tweet_1303505945654329346\">Sep 8</a>\\n</td>\\n</tr>\\n<tr class=\"tweet-container\">\\n<td class=\"tweet-content\" colspan=\"2\">\\n<div class=\"tweet-text\" data-id=\"1303505945654329346\">\\n<div class=\"dir-ltr\" dir=\"ltr\">  Container Imports Peaking; Idling Railcar Growth; Coal’s Faint Embers: Today’s Top Supply Chain &amp; Logistics News\\n<a class=\"twitter_external_link dir-ltr tco-link\" data-expanded-url=\"https://on.wsj.com/327GEQI\" data-url=\"https://on.wsj.com/327GEQI\" dir=\"ltr\" href=\"https://t.co/dNiXVVgko4\" rel=\"nofollow noopener\" target=\"_blank\" title=\"https://on.wsj.com/327GEQI\">on.wsj.com/327GEQI</a>\\nvia <a class=\"twitter-atreply dir-ltr\" data-mentioned-user-id=\"3108351\" data-screenname=\"WSJ\" dir=\"ltr\" href=\"/WSJ\">@WSJ</a> <a class=\"twitter_external_link dir-ltr tco-link has-expanded-path\" data-entity-id=\"1303505936921829378\" data-expanded-path=\"/WSJLogistics/status/1303505945654329346/photo/1\" data-pre-embedded=\"true\" data-tco-id=\"bMrlhSxL9E\" data-url=\"https://twitter.com/WSJLogistics/status/1303505945654329346/photo/1\" dir=\"ltr\" href=\"https://t.co/bMrlhSxL9E\" rel=\"nofollow\" target=\"_top\">pic.twitter.com/bMrlhSxL9E</a>\\n</div>\\n</div>\\n</td>\\n</tr>\\n<tr>\\n<td class=\"meta-and-actions\" colspan=\"2\">\\n<div class=\"card-photo\">\\n<div class=\"media\">\\n<img height=\"133\" src=\"https://pbs.twimg.com/media/Ehb7vkzWoAI_tEJ.jpg:small\" width=\"200\">\\n</img></div>\\n<div class=\"description\"> </div>\\n</div>\\n<span class=\"metadata\">\\n<a href=\"/WSJLogistics/status/1303505945654329346?p=v\">View photo</a>\\n<span class=\"middot\">·</span>\\n</span>\\n<span class=\"tweet-actions\">\\n<a class=\"first\" href=\"/WSJLogistics/reply/1303505945654329346?p=r\">\\n<img alt=\"Reply\" src=\"https://ma.twimg.com/twitter-mobile/a8491f04da4e54be98cff3a86c58f23a770c26bd/images/sprites/tweet_reply.gif\"/>\\n</a>\\n<a href=\"/statuses/1303505945654329346/retweet?p=t\">\\n<img alt=\"Retweet\" src=\"https://ma.twimg.com/twitter-mobile/a8491f04da4e54be98cff3a86c58f23a770c26bd/images/sprites/tweet_rt.gif\"/>\\n</a>\\n<a class=\"favorite\" href=\"/statuses/1303505945654329346/favorite?p=f&amp;authenticity_token=2b7e26cb1e8e4b09978b2591e348a6cd821c37f6\">\\n<img alt=\"Like\" src=\"https://ma.twimg.com/twitter-mobile/a8491f04da4e54be98cff3a86c58f23a770c26bd/images/sprites/tweet_heart.gif\"/>\\n</a>\\n<a class=\"last\" href=\"/WSJLogistics/status/1303505945654329346/actions\"></a>\\n</span>\\n</td>\\n</tr>\\n</table>',\n",
       "  'data-item-id': '1303505945654329346',\n",
       "  'data-conversation-id': '1303505945654329346',\n",
       "  'username': '@WSJLogistics',\n",
       "  'tweet': '  Container Imports Peaking; Idling Railcar Growth; Coal’s Faint Embers: Today’s Top Supply Chain & Logistics News\\non.wsj.com/327GEQI\\nvia @WSJ pic.twitter.com/bMrlhSxL9E\\n',\n",
       "  'avatar': 'https://pbs.twimg.com/profile_images/954404125848014848/Xk6aVfEb_normal.jpg',\n",
       "  'date': '2020-09-08'},\n",
       " {'all-data': '<table class=\"tweet\" href=\"/WSJLogistics/status/1308579390226399232?p=v\">\\n<tr class=\"tweet-header\">\\n<td class=\"avatar\" rowspan=\"3\">\\n<a href=\"/WSJLogistics?p=i\">\\n<img alt=\"WSJ Logistics Report\" src=\"https://pbs.twimg.com/profile_images/954404125848014848/Xk6aVfEb_normal.jpg\">\\n</img></a>\\n</td>\\n<td class=\"user-info\">\\n<a href=\"/WSJLogistics?p=s\">\\n<strong class=\"fullname\">WSJ Logistics Report</strong>\\n<div class=\"username\">\\n<span>@</span>WSJLogistics\\n    </div>\\n</a>\\n</td>\\n<td class=\"timestamp\">\\n<a href=\"/WSJLogistics/status/1308579390226399232?p=p\" name=\"tweet_1308579390226399232\">Sep 22</a>\\n</td>\\n</tr>\\n<tr class=\"tweet-container\">\\n<td class=\"tweet-content\" colspan=\"2\">\\n<div class=\"tweet-text\" data-id=\"1308579390226399232\">\\n<div class=\"dir-ltr\" dir=\"ltr\">  Nikola\\'s Leadership Restart; Slicing Meat Prices; Vetting China’s Suppliers: Today’s Top Supply Chain News\\n<a class=\"twitter_external_link dir-ltr tco-link\" data-expanded-url=\"https://on.wsj.com/33TsrH3\" data-url=\"https://on.wsj.com/33TsrH3\" dir=\"ltr\" href=\"https://t.co/1ex8h3EVsf\" rel=\"nofollow noopener\" target=\"_blank\" title=\"https://on.wsj.com/33TsrH3\">on.wsj.com/33TsrH3</a>\\nvia <a class=\"twitter-atreply dir-ltr\" data-mentioned-user-id=\"3108351\" data-screenname=\"WSJ\" dir=\"ltr\" href=\"/WSJ\">@WSJ</a> <a class=\"twitter_external_link dir-ltr tco-link has-expanded-path\" data-entity-id=\"1308579384585064448\" data-expanded-path=\"/WSJLogistics/status/1308579390226399232/photo/1\" data-pre-embedded=\"true\" data-tco-id=\"HmsscFvrJB\" data-url=\"https://twitter.com/WSJLogistics/status/1308579390226399232/photo/1\" dir=\"ltr\" href=\"https://t.co/HmsscFvrJB\" rel=\"nofollow\" target=\"_top\">pic.twitter.com/HmsscFvrJB</a>\\n</div>\\n</div>\\n</td>\\n</tr>\\n<tr>\\n<td class=\"meta-and-actions\" colspan=\"2\">\\n<div class=\"card-photo\">\\n<div class=\"media\">\\n<img height=\"133\" src=\"https://pbs.twimg.com/media/EikCBGKXkAArGR2.jpg:small\" width=\"200\">\\n</img></div>\\n<div class=\"description\"> </div>\\n</div>\\n<span class=\"metadata\">\\n<a href=\"/WSJLogistics/status/1308579390226399232?p=v\">View photo</a>\\n<span class=\"middot\">·</span>\\n</span>\\n<span class=\"tweet-actions\">\\n<a class=\"first\" href=\"/WSJLogistics/reply/1308579390226399232?p=r\">\\n<img alt=\"Reply\" src=\"https://ma.twimg.com/twitter-mobile/a8491f04da4e54be98cff3a86c58f23a770c26bd/images/sprites/tweet_reply.gif\"/>\\n</a>\\n<a href=\"/statuses/1308579390226399232/retweet?p=t\">\\n<img alt=\"Retweet\" src=\"https://ma.twimg.com/twitter-mobile/a8491f04da4e54be98cff3a86c58f23a770c26bd/images/sprites/tweet_rt.gif\"/>\\n</a>\\n<a class=\"favorite\" href=\"/statuses/1308579390226399232/favorite?p=f&amp;authenticity_token=2b7e26cb1e8e4b09978b2591e348a6cd821c37f6\">\\n<img alt=\"Like\" src=\"https://ma.twimg.com/twitter-mobile/a8491f04da4e54be98cff3a86c58f23a770c26bd/images/sprites/tweet_heart.gif\"/>\\n</a>\\n<a class=\"last\" href=\"/WSJLogistics/status/1308579390226399232/actions\"></a>\\n</span>\\n</td>\\n</tr>\\n</table>',\n",
       "  'data-item-id': '1308579390226399232',\n",
       "  'data-conversation-id': '1308579390226399232',\n",
       "  'username': '@WSJLogistics',\n",
       "  'tweet': \"  Nikola's Leadership Restart; Slicing Meat Prices; Vetting China’s Suppliers: Today’s Top Supply Chain News\\non.wsj.com/33TsrH3\\nvia @WSJ pic.twitter.com/HmsscFvrJB\\n\",\n",
       "  'avatar': 'https://pbs.twimg.com/profile_images/954404125848014848/Xk6aVfEb_normal.jpg',\n",
       "  'date': '2020-09-22'},\n",
       " {'all-data': '<table class=\"tweet\" href=\"/WSJLogistics/status/1308030749266894848?p=v\">\\n<tr class=\"tweet-header\">\\n<td class=\"avatar\" rowspan=\"3\">\\n<a href=\"/WSJLogistics?p=i\">\\n<img alt=\"WSJ Logistics Report\" src=\"https://pbs.twimg.com/profile_images/954404125848014848/Xk6aVfEb_normal.jpg\">\\n</img></a>\\n</td>\\n<td class=\"user-info\">\\n<a href=\"/WSJLogistics?p=s\">\\n<strong class=\"fullname\">WSJ Logistics Report</strong>\\n<div class=\"username\">\\n<span>@</span>WSJLogistics\\n    </div>\\n</a>\\n</td>\\n<td class=\"timestamp\">\\n<a href=\"/WSJLogistics/status/1308030749266894848?p=p\" name=\"tweet_1308030749266894848\">Sep 21</a>\\n</td>\\n</tr>\\n<tr class=\"tweet-container\">\\n<td class=\"tweet-content\" colspan=\"2\">\\n<div class=\"tweet-text\" data-id=\"1308030749266894848\">\\n<div class=\"dir-ltr\" dir=\"ltr\">  Trade’s Rapid Rebound; Maersk Cuts Back; Nikola’s Milton Resigns: Today’s Top Supply Chain News\\n<a class=\"twitter_external_link dir-ltr tco-link\" data-expanded-url=\"https://on.wsj.com/3kF8MRV\" data-url=\"https://on.wsj.com/3kF8MRV\" dir=\"ltr\" href=\"https://t.co/sNXxezREl4\" rel=\"nofollow noopener\" target=\"_blank\" title=\"https://on.wsj.com/3kF8MRV\">on.wsj.com/3kF8MRV</a>\\nvia <a class=\"twitter-atreply dir-ltr\" data-mentioned-user-id=\"3108351\" data-screenname=\"WSJ\" dir=\"ltr\" href=\"/WSJ\">@WSJ</a> <a class=\"twitter_external_link dir-ltr tco-link has-expanded-path\" data-entity-id=\"1308030747232608261\" data-expanded-path=\"/WSJLogistics/status/1308030749266894848/photo/1\" data-pre-embedded=\"true\" data-tco-id=\"Q7bS9X4S8Z\" data-url=\"https://twitter.com/WSJLogistics/status/1308030749266894848/photo/1\" dir=\"ltr\" href=\"https://t.co/Q7bS9X4S8Z\" rel=\"nofollow\" target=\"_top\">pic.twitter.com/Q7bS9X4S8Z</a>\\n</div>\\n</div>\\n</td>\\n</tr>\\n<tr>\\n<td class=\"meta-and-actions\" colspan=\"2\">\\n<div class=\"card-photo\">\\n<div class=\"media\">\\n<img height=\"133\" src=\"https://pbs.twimg.com/media/EicPCMwWoAUEY1e.jpg:small\" width=\"200\">\\n</img></div>\\n<div class=\"description\"> </div>\\n</div>\\n<span class=\"metadata\">\\n<a href=\"/WSJLogistics/status/1308030749266894848?p=v\">View photo</a>\\n<span class=\"middot\">·</span>\\n</span>\\n<span class=\"tweet-actions\">\\n<a class=\"first\" href=\"/WSJLogistics/reply/1308030749266894848?p=r\">\\n<img alt=\"Reply\" src=\"https://ma.twimg.com/twitter-mobile/a8491f04da4e54be98cff3a86c58f23a770c26bd/images/sprites/tweet_reply.gif\"/>\\n</a>\\n<a href=\"/statuses/1308030749266894848/retweet?p=t\">\\n<img alt=\"Retweet\" src=\"https://ma.twimg.com/twitter-mobile/a8491f04da4e54be98cff3a86c58f23a770c26bd/images/sprites/tweet_rt.gif\"/>\\n</a>\\n<a class=\"favorite\" href=\"/statuses/1308030749266894848/favorite?p=f&amp;authenticity_token=2b7e26cb1e8e4b09978b2591e348a6cd821c37f6\">\\n<img alt=\"Like\" src=\"https://ma.twimg.com/twitter-mobile/a8491f04da4e54be98cff3a86c58f23a770c26bd/images/sprites/tweet_heart.gif\"/>\\n</a>\\n<a class=\"last\" href=\"/WSJLogistics/status/1308030749266894848/actions\"></a>\\n</span>\\n</td>\\n</tr>\\n</table>',\n",
       "  'data-item-id': '1308030749266894848',\n",
       "  'data-conversation-id': '1308030749266894848',\n",
       "  'username': '@WSJLogistics',\n",
       "  'tweet': '  Trade’s Rapid Rebound; Maersk Cuts Back; Nikola’s Milton Resigns: Today’s Top Supply Chain News\\non.wsj.com/3kF8MRV\\nvia @WSJ pic.twitter.com/Q7bS9X4S8Z\\n',\n",
       "  'avatar': 'https://pbs.twimg.com/profile_images/954404125848014848/Xk6aVfEb_normal.jpg',\n",
       "  'date': '2020-09-21'},\n",
       " {'all-data': '<table class=\"tweet\" href=\"/WSJLogistics/status/1303687130502361090?p=v\">\\n<tr class=\"tweet-header\">\\n<td class=\"avatar\" rowspan=\"3\">\\n<a href=\"/WSJLogistics?p=i\">\\n<img alt=\"WSJ Logistics Report\" src=\"https://pbs.twimg.com/profile_images/954404125848014848/Xk6aVfEb_normal.jpg\">\\n</img></a>\\n</td>\\n<td class=\"user-info\">\\n<a href=\"/WSJLogistics?p=s\">\\n<strong class=\"fullname\">WSJ Logistics Report</strong>\\n<div class=\"username\">\\n<span>@</span>WSJLogistics\\n    </div>\\n</a>\\n</td>\\n<td class=\"timestamp\">\\n<a href=\"/WSJLogistics/status/1303687130502361090?p=p\" name=\"tweet_1303687130502361090\">Sep 9</a>\\n</td>\\n</tr>\\n<tr class=\"tweet-container\">\\n<td class=\"tweet-content\" colspan=\"2\">\\n<div class=\"tweet-text\" data-id=\"1303687130502361090\">\\n<div class=\"dir-ltr\" dir=\"ltr\">  Stranded at Sea; Nikola, GM Charging Up; Shopping for Digital Commerce: Today’s Top Supply Chain &amp; Logistics News\\n<a class=\"twitter_external_link dir-ltr tco-link\" data-expanded-url=\"https://on.wsj.com/3bENnVD\" data-url=\"https://on.wsj.com/3bENnVD\" dir=\"ltr\" href=\"https://t.co/TtVyGw8CmM\" rel=\"nofollow noopener\" target=\"_blank\" title=\"https://on.wsj.com/3bENnVD\">on.wsj.com/3bENnVD</a>\\nvia <a class=\"twitter-atreply dir-ltr\" data-mentioned-user-id=\"3108351\" data-screenname=\"WSJ\" dir=\"ltr\" href=\"/WSJ\">@WSJ</a> <a class=\"twitter_external_link dir-ltr tco-link has-expanded-path\" data-entity-id=\"1303687124995145728\" data-expanded-path=\"/WSJLogistics/status/1303687130502361090/photo/1\" data-pre-embedded=\"true\" data-tco-id=\"qTVvdoMgh4\" data-url=\"https://twitter.com/WSJLogistics/status/1303687130502361090/photo/1\" dir=\"ltr\" href=\"https://t.co/qTVvdoMgh4\" rel=\"nofollow\" target=\"_top\">pic.twitter.com/qTVvdoMgh4</a>\\n</div>\\n</div>\\n</td>\\n</tr>\\n<tr>\\n<td class=\"meta-and-actions\" colspan=\"2\">\\n<div class=\"card-photo\">\\n<div class=\"media\">\\n<img height=\"133\" src=\"https://pbs.twimg.com/media/EhegiG-WAAAIZ_0.jpg:small\" width=\"200\">\\n</img></div>\\n<div class=\"description\"> </div>\\n</div>\\n<span class=\"metadata\">\\n<a href=\"/WSJLogistics/status/1303687130502361090?p=v\">View photo</a>\\n<span class=\"middot\">·</span>\\n</span>\\n<span class=\"tweet-actions\">\\n<a class=\"first\" href=\"/WSJLogistics/reply/1303687130502361090?p=r\">\\n<img alt=\"Reply\" src=\"https://ma.twimg.com/twitter-mobile/a8491f04da4e54be98cff3a86c58f23a770c26bd/images/sprites/tweet_reply.gif\"/>\\n</a>\\n<a href=\"/statuses/1303687130502361090/retweet?p=t\">\\n<img alt=\"Retweet\" src=\"https://ma.twimg.com/twitter-mobile/a8491f04da4e54be98cff3a86c58f23a770c26bd/images/sprites/tweet_rt.gif\"/>\\n</a>\\n<a class=\"favorite\" href=\"/statuses/1303687130502361090/favorite?p=f&amp;authenticity_token=2b7e26cb1e8e4b09978b2591e348a6cd821c37f6\">\\n<img alt=\"Like\" src=\"https://ma.twimg.com/twitter-mobile/a8491f04da4e54be98cff3a86c58f23a770c26bd/images/sprites/tweet_heart.gif\"/>\\n</a>\\n<a class=\"last\" href=\"/WSJLogistics/status/1303687130502361090/actions\"></a>\\n</span>\\n</td>\\n</tr>\\n</table>',\n",
       "  'data-item-id': '1303687130502361090',\n",
       "  'data-conversation-id': '1303687130502361090',\n",
       "  'username': '@WSJLogistics',\n",
       "  'tweet': '  Stranded at Sea; Nikola, GM Charging Up; Shopping for Digital Commerce: Today’s Top Supply Chain & Logistics News\\non.wsj.com/3bENnVD\\nvia @WSJ pic.twitter.com/qTVvdoMgh4\\n',\n",
       "  'avatar': 'https://pbs.twimg.com/profile_images/954404125848014848/Xk6aVfEb_normal.jpg',\n",
       "  'date': '2020-09-09'},\n",
       " {'all-data': '<table class=\"tweet\" href=\"/WSJLogistics/status/1309486092580794374?p=v\">\\n<tr class=\"tweet-header\">\\n<td class=\"avatar\" rowspan=\"3\">\\n<a href=\"/WSJLogistics?p=i\">\\n<img alt=\"WSJ Logistics Report\" src=\"https://pbs.twimg.com/profile_images/954404125848014848/Xk6aVfEb_normal.jpg\">\\n</img></a>\\n</td>\\n<td class=\"user-info\">\\n<a href=\"/WSJLogistics?p=s\">\\n<strong class=\"fullname\">WSJ Logistics Report</strong>\\n<div class=\"username\">\\n<span>@</span>WSJLogistics\\n    </div>\\n</a>\\n</td>\\n<td class=\"timestamp\">\\n<a href=\"/WSJLogistics/status/1309486092580794374?p=p\" name=\"tweet_1309486092580794374\">Sep 25</a>\\n</td>\\n</tr>\\n<tr class=\"tweet-container\">\\n<td class=\"tweet-content\" colspan=\"2\">\\n<div class=\"tweet-text\" data-id=\"1309486092580794374\">\\n<div class=\"dir-ltr\" dir=\"ltr\">  Driving Electric Forward; Stumbling Boeing Supplier; Sold on E-Commerce: Today’s Top Supply Chain News\\n<a class=\"twitter_external_link dir-ltr tco-link\" data-expanded-url=\"https://on.wsj.com/3i0inRh\" data-url=\"https://on.wsj.com/3i0inRh\" dir=\"ltr\" href=\"https://t.co/ybWgoq3ya5\" rel=\"nofollow noopener\" target=\"_blank\" title=\"https://on.wsj.com/3i0inRh\">on.wsj.com/3i0inRh</a>\\nvia <a class=\"twitter-atreply dir-ltr\" data-mentioned-user-id=\"3108351\" data-screenname=\"WSJ\" dir=\"ltr\" href=\"/WSJ\">@WSJ</a> <a class=\"twitter_external_link dir-ltr tco-link has-expanded-path\" data-entity-id=\"1309486089015615489\" data-expanded-path=\"/WSJLogistics/status/1309486092580794374/photo/1\" data-pre-embedded=\"true\" data-tco-id=\"KwA1R9Z8Aw\" data-url=\"https://twitter.com/WSJLogistics/status/1309486092580794374/photo/1\" dir=\"ltr\" href=\"https://t.co/KwA1R9Z8Aw\" rel=\"nofollow\" target=\"_top\">pic.twitter.com/KwA1R9Z8Aw</a>\\n</div>\\n</div>\\n</td>\\n</tr>\\n<tr>\\n<td class=\"meta-and-actions\" colspan=\"2\">\\n<div class=\"card-photo\">\\n<div class=\"media\">\\n<img height=\"129\" src=\"https://pbs.twimg.com/media/Eiw6qPYXYAEAodN.jpg:small\" width=\"200\">\\n</img></div>\\n<div class=\"description\"> </div>\\n</div>\\n<span class=\"metadata\">\\n<a href=\"/WSJLogistics/status/1309486092580794374?p=v\">View photo</a>\\n<span class=\"middot\">·</span>\\n</span>\\n<span class=\"tweet-actions\">\\n<a class=\"first\" href=\"/WSJLogistics/reply/1309486092580794374?p=r\">\\n<img alt=\"Reply\" src=\"https://ma.twimg.com/twitter-mobile/a8491f04da4e54be98cff3a86c58f23a770c26bd/images/sprites/tweet_reply.gif\"/>\\n</a>\\n<a href=\"/statuses/1309486092580794374/retweet?p=t\">\\n<img alt=\"Retweet\" src=\"https://ma.twimg.com/twitter-mobile/a8491f04da4e54be98cff3a86c58f23a770c26bd/images/sprites/tweet_rt.gif\"/>\\n</a>\\n<a class=\"favorite\" href=\"/statuses/1309486092580794374/favorite?p=f&amp;authenticity_token=2b7e26cb1e8e4b09978b2591e348a6cd821c37f6\">\\n<img alt=\"Like\" src=\"https://ma.twimg.com/twitter-mobile/a8491f04da4e54be98cff3a86c58f23a770c26bd/images/sprites/tweet_heart.gif\"/>\\n</a>\\n<a class=\"last\" href=\"/WSJLogistics/status/1309486092580794374/actions\"></a>\\n</span>\\n</td>\\n</tr>\\n</table>',\n",
       "  'data-item-id': '1309486092580794374',\n",
       "  'data-conversation-id': '1309486092580794374',\n",
       "  'username': '@WSJLogistics',\n",
       "  'tweet': '  Driving Electric Forward; Stumbling Boeing Supplier; Sold on E-Commerce: Today’s Top Supply Chain News\\non.wsj.com/3i0inRh\\nvia @WSJ pic.twitter.com/KwA1R9Z8Aw\\n',\n",
       "  'avatar': 'https://pbs.twimg.com/profile_images/954404125848014848/Xk6aVfEb_normal.jpg',\n",
       "  'date': '2020-09-25'},\n",
       " {'all-data': '<table class=\"tweet\" href=\"/WSJLogistics/status/1311297526499364870?p=v\">\\n<tr class=\"tweet-header\">\\n<td class=\"avatar\" rowspan=\"3\">\\n<a href=\"/WSJLogistics?p=i\">\\n<img alt=\"WSJ Logistics Report\" src=\"https://pbs.twimg.com/profile_images/954404125848014848/Xk6aVfEb_normal.jpg\">\\n</img></a>\\n</td>\\n<td class=\"user-info\">\\n<a href=\"/WSJLogistics?p=s\">\\n<strong class=\"fullname\">WSJ Logistics Report</strong>\\n<div class=\"username\">\\n<span>@</span>WSJLogistics\\n    </div>\\n</a>\\n</td>\\n<td class=\"timestamp\">\\n<a href=\"/WSJLogistics/status/1311297526499364870?p=p\" name=\"tweet_1311297526499364870\">Sep 30</a>\\n</td>\\n</tr>\\n<tr class=\"tweet-container\">\\n<td class=\"tweet-content\" colspan=\"2\">\\n<div class=\"tweet-text\" data-id=\"1311297526499364870\">\\n<div class=\"dir-ltr\" dir=\"ltr\">  Retail’s Liquidation Frenzy; Shipping’s Ransomware Cloud; Restocking Shelves: Today’s Top Supply Chain News\\n<a class=\"twitter_external_link dir-ltr tco-link\" data-expanded-url=\"https://on.wsj.com/2S9axdI\" data-url=\"https://on.wsj.com/2S9axdI\" dir=\"ltr\" href=\"https://t.co/VopjShlN50\" rel=\"nofollow noopener\" target=\"_blank\" title=\"https://on.wsj.com/2S9axdI\">on.wsj.com/2S9axdI</a>\\nvia <a class=\"twitter-atreply dir-ltr\" data-mentioned-user-id=\"3108351\" data-screenname=\"WSJ\" dir=\"ltr\" href=\"/WSJ\">@WSJ</a> <a class=\"twitter_external_link dir-ltr tco-link has-expanded-path\" data-entity-id=\"1311297523538108416\" data-expanded-path=\"/WSJLogistics/status/1311297526499364870/photo/1\" data-pre-embedded=\"true\" data-tco-id=\"4ry9vPd8As\" data-url=\"https://twitter.com/WSJLogistics/status/1311297526499364870/photo/1\" dir=\"ltr\" href=\"https://t.co/4ry9vPd8As\" rel=\"nofollow\" target=\"_top\">pic.twitter.com/4ry9vPd8As</a>\\n</div>\\n</div>\\n</td>\\n</tr>\\n<tr>\\n<td class=\"meta-and-actions\" colspan=\"2\">\\n<div class=\"card-photo\">\\n<div class=\"media\">\\n<img height=\"100\" src=\"https://pbs.twimg.com/media/EjKqJm1WoAAAHAf.jpg:small\" width=\"200\">\\n</img></div>\\n<div class=\"description\"> </div>\\n</div>\\n<span class=\"metadata\">\\n<a href=\"/WSJLogistics/status/1311297526499364870?p=v\">View photo</a>\\n<span class=\"middot\">·</span>\\n</span>\\n<span class=\"tweet-actions\">\\n<a class=\"first\" href=\"/WSJLogistics/reply/1311297526499364870?p=r\">\\n<img alt=\"Reply\" src=\"https://ma.twimg.com/twitter-mobile/a8491f04da4e54be98cff3a86c58f23a770c26bd/images/sprites/tweet_reply.gif\"/>\\n</a>\\n<a href=\"/statuses/1311297526499364870/retweet?p=t\">\\n<img alt=\"Retweet\" src=\"https://ma.twimg.com/twitter-mobile/a8491f04da4e54be98cff3a86c58f23a770c26bd/images/sprites/tweet_rt.gif\"/>\\n</a>\\n<a class=\"favorite\" href=\"/statuses/1311297526499364870/favorite?p=f&amp;authenticity_token=2b7e26cb1e8e4b09978b2591e348a6cd821c37f6\">\\n<img alt=\"Like\" src=\"https://ma.twimg.com/twitter-mobile/a8491f04da4e54be98cff3a86c58f23a770c26bd/images/sprites/tweet_heart.gif\"/>\\n</a>\\n<a class=\"last\" href=\"/WSJLogistics/status/1311297526499364870/actions\"></a>\\n</span>\\n</td>\\n</tr>\\n</table>',\n",
       "  'data-item-id': '1311297526499364870',\n",
       "  'data-conversation-id': '1311297526499364870',\n",
       "  'username': '@WSJLogistics',\n",
       "  'tweet': '  Retail’s Liquidation Frenzy; Shipping’s Ransomware Cloud; Restocking Shelves: Today’s Top Supply Chain News\\non.wsj.com/2S9axdI\\nvia @WSJ pic.twitter.com/4ry9vPd8As\\n',\n",
       "  'avatar': 'https://pbs.twimg.com/profile_images/954404125848014848/Xk6aVfEb_normal.jpg',\n",
       "  'date': '2020-09-30'},\n",
       " {'all-data': '<table class=\"tweet\" href=\"/WSJLogistics/status/1310510825829019652?p=v\">\\n<tr class=\"tweet-header\">\\n<td class=\"avatar\" rowspan=\"3\">\\n<a href=\"/WSJLogistics?p=i\">\\n<img alt=\"WSJ Logistics Report\" src=\"https://pbs.twimg.com/profile_images/954404125848014848/Xk6aVfEb_normal.jpg\">\\n</img></a>\\n</td>\\n<td class=\"user-info\">\\n<a href=\"/WSJLogistics?p=s\">\\n<strong class=\"fullname\">WSJ Logistics Report</strong>\\n<div class=\"username\">\\n<span>@</span>WSJLogistics\\n    </div>\\n</a>\\n</td>\\n<td class=\"timestamp\">\\n<a href=\"/WSJLogistics/status/1310510825829019652?p=p\" name=\"tweet_1310510825829019652\">Sep 28</a>\\n</td>\\n</tr>\\n<tr class=\"tweet-container\">\\n<td class=\"tweet-content\" colspan=\"2\">\\n<div class=\"tweet-text\" data-id=\"1310510825829019652\">\\n<div class=\"dir-ltr\" dir=\"ltr\">  The European Union’s drive to bring global supply chains into the continent’s emissions trading scheme risks inflaming tensions over international trade, <a class=\"twitter-atreply dir-ltr\" data-mentioned-user-id=\"217367297\" data-screenname=\"CostasParis\" dir=\"ltr\" href=\"/CostasParis\">@CostasParis</a> writes in a Shipping Matters commentary.  <a class=\"twitter_external_link dir-ltr tco-link\" data-expanded-url=\"https://on.wsj.com/3mWf0P5\" data-url=\"https://on.wsj.com/3mWf0P5\" dir=\"ltr\" href=\"https://t.co/sLhBvAf24N\" rel=\"nofollow noopener\" target=\"_blank\" title=\"https://on.wsj.com/3mWf0P5\">on.wsj.com/3mWf0P5</a> via <a class=\"twitter-atreply dir-ltr\" data-mentioned-user-id=\"3108351\" data-screenname=\"WSJ\" dir=\"ltr\" href=\"/WSJ\">@WSJ</a>\\n</div>\\n</div>\\n</td>\\n</tr>\\n<tr>\\n<td class=\"meta-and-actions\" colspan=\"2\">\\n<span class=\"metadata\">\\n<a href=\"/WSJLogistics/status/1310510825829019652?p=v\">View summary</a>\\n<span class=\"middot\">·</span>\\n</span>\\n<span class=\"tweet-actions\">\\n<a class=\"first\" href=\"/WSJLogistics/reply/1310510825829019652?p=r\">\\n<img alt=\"Reply\" src=\"https://ma.twimg.com/twitter-mobile/a8491f04da4e54be98cff3a86c58f23a770c26bd/images/sprites/tweet_reply.gif\"/>\\n</a>\\n<a href=\"/statuses/1310510825829019652/retweet?p=t\">\\n<img alt=\"Retweet\" src=\"https://ma.twimg.com/twitter-mobile/a8491f04da4e54be98cff3a86c58f23a770c26bd/images/sprites/tweet_rt.gif\"/>\\n</a>\\n<a class=\"favorite\" href=\"/statuses/1310510825829019652/favorite?p=f&amp;authenticity_token=2b7e26cb1e8e4b09978b2591e348a6cd821c37f6\">\\n<img alt=\"Like\" src=\"https://ma.twimg.com/twitter-mobile/a8491f04da4e54be98cff3a86c58f23a770c26bd/images/sprites/tweet_heart.gif\"/>\\n</a>\\n<a class=\"last\" href=\"/WSJLogistics/status/1310510825829019652/actions\"></a>\\n</span>\\n</td>\\n</tr>\\n</table>',\n",
       "  'data-item-id': '1310510825829019652',\n",
       "  'data-conversation-id': '1310510825829019652',\n",
       "  'username': '@WSJLogistics',\n",
       "  'tweet': '  The European Union’s drive to bring global supply chains into the continent’s emissions trading scheme risks inflaming tensions over international trade, @CostasParis writes in a Shipping Matters commentary.  on.wsj.com/3mWf0P5 via @WSJ\\n',\n",
       "  'avatar': 'https://pbs.twimg.com/profile_images/954404125848014848/Xk6aVfEb_normal.jpg',\n",
       "  'date': '2020-09-28'},\n",
       " {'all-data': '<table class=\"tweet\" href=\"/WSJLogistics/status/1308034863115767808?p=v\">\\n<tr class=\"tweet-header\">\\n<td class=\"avatar\" rowspan=\"3\">\\n<a href=\"/WSJLogistics?p=i\">\\n<img alt=\"WSJ Logistics Report\" src=\"https://pbs.twimg.com/profile_images/954404125848014848/Xk6aVfEb_normal.jpg\">\\n</img></a>\\n</td>\\n<td class=\"user-info\">\\n<a href=\"/WSJLogistics?p=s\">\\n<strong class=\"fullname\">WSJ Logistics Report</strong>\\n<div class=\"username\">\\n<span>@</span>WSJLogistics\\n    </div>\\n</a>\\n</td>\\n<td class=\"timestamp\">\\n<a href=\"/WSJLogistics/status/1308034863115767808?p=p\" name=\"tweet_1308034863115767808\">Sep 21</a>\\n</td>\\n</tr>\\n<tr class=\"tweet-container\">\\n<td class=\"tweet-content\" colspan=\"2\">\\n<div class=\"tweet-text\" data-id=\"1308034863115767808\">\\n<div class=\"dir-ltr\" dir=\"ltr\">  Nikola has a deal with Romeo Systems to supply batteries for its semi-truck model, a contrast to the company’s earlier statements that it has developed its own battery technology <a class=\"twitter_external_link dir-ltr tco-link\" data-expanded-url=\"https://on.wsj.com/3hQexdJ\" data-url=\"https://on.wsj.com/3hQexdJ\" dir=\"ltr\" href=\"https://t.co/7Ofm8WEgFG\" rel=\"nofollow noopener\" target=\"_blank\" title=\"https://on.wsj.com/3hQexdJ\">on.wsj.com/3hQexdJ</a> via <a class=\"twitter-atreply dir-ltr\" data-mentioned-user-id=\"3108351\" data-screenname=\"WSJ\" dir=\"ltr\" href=\"/WSJ\">@WSJ</a>\\n</div>\\n</div>\\n</td>\\n</tr>\\n<tr>\\n<td class=\"meta-and-actions\" colspan=\"2\">\\n<span class=\"metadata\">\\n<a href=\"/WSJLogistics/status/1308034863115767808?p=v\">View summary</a>\\n<span class=\"middot\">·</span>\\n</span>\\n<span class=\"tweet-actions\">\\n<a class=\"first\" href=\"/WSJLogistics/reply/1308034863115767808?p=r\">\\n<img alt=\"Reply\" src=\"https://ma.twimg.com/twitter-mobile/a8491f04da4e54be98cff3a86c58f23a770c26bd/images/sprites/tweet_reply.gif\"/>\\n</a>\\n<a href=\"/statuses/1308034863115767808/retweet?p=t\">\\n<img alt=\"Retweet\" src=\"https://ma.twimg.com/twitter-mobile/a8491f04da4e54be98cff3a86c58f23a770c26bd/images/sprites/tweet_rt.gif\"/>\\n</a>\\n<a class=\"favorite\" href=\"/statuses/1308034863115767808/favorite?p=f&amp;authenticity_token=2b7e26cb1e8e4b09978b2591e348a6cd821c37f6\">\\n<img alt=\"Like\" src=\"https://ma.twimg.com/twitter-mobile/a8491f04da4e54be98cff3a86c58f23a770c26bd/images/sprites/tweet_heart.gif\"/>\\n</a>\\n<a class=\"last\" href=\"/WSJLogistics/status/1308034863115767808/actions\"></a>\\n</span>\\n</td>\\n</tr>\\n</table>',\n",
       "  'data-item-id': '1308034863115767808',\n",
       "  'data-conversation-id': '1308034863115767808',\n",
       "  'username': '@WSJLogistics',\n",
       "  'tweet': '  Nikola has a deal with Romeo Systems to supply batteries for its semi-truck model, a contrast to the company’s earlier statements that it has developed its own battery technology on.wsj.com/3hQexdJ via @WSJ\\n',\n",
       "  'avatar': 'https://pbs.twimg.com/profile_images/954404125848014848/Xk6aVfEb_normal.jpg',\n",
       "  'date': '2020-09-21'},\n",
       " {'all-data': '<table class=\"tweet\" href=\"/WSJLogistics/status/1305446263123574784?p=v\">\\n<tr class=\"tweet-header\">\\n<td class=\"avatar\" rowspan=\"3\">\\n<a href=\"/WSJLogistics?p=i\">\\n<img alt=\"WSJ Logistics Report\" src=\"https://pbs.twimg.com/profile_images/954404125848014848/Xk6aVfEb_normal.jpg\">\\n</img></a>\\n</td>\\n<td class=\"user-info\">\\n<a href=\"/WSJLogistics?p=s\">\\n<strong class=\"fullname\">WSJ Logistics Report</strong>\\n<div class=\"username\">\\n<span>@</span>WSJLogistics\\n    </div>\\n</a>\\n</td>\\n<td class=\"timestamp\">\\n<a href=\"/WSJLogistics/status/1305446263123574784?p=p\" name=\"tweet_1305446263123574784\">Sep 14</a>\\n</td>\\n</tr>\\n<tr class=\"tweet-container\">\\n<td class=\"tweet-content\" colspan=\"2\">\\n<div class=\"tweet-text\" data-id=\"1305446263123574784\">\\n<div class=\"dir-ltr\" dir=\"ltr\">  The head of the world’s fourth-largest container line says the carrier\\'s future will increasingly be built on e-commerce. <a class=\"twitter_external_link dir-ltr tco-link\" data-expanded-url=\"https://on.wsj.com/3mgM04b\" data-url=\"https://on.wsj.com/3mgM04b\" dir=\"ltr\" href=\"https://t.co/7JmEzBJCiv\" rel=\"nofollow noopener\" target=\"_blank\" title=\"https://on.wsj.com/3mgM04b\">on.wsj.com/3mgM04b</a> via <a class=\"twitter-atreply dir-ltr\" data-mentioned-user-id=\"3108351\" data-screenname=\"WSJ\" dir=\"ltr\" href=\"/WSJ\">@WSJ</a>\\n</div>\\n</div>\\n</td>\\n</tr>\\n<tr>\\n<td class=\"meta-and-actions\" colspan=\"2\">\\n<span class=\"metadata\">\\n<a href=\"/WSJLogistics/status/1305446263123574784?p=v\">View summary</a>\\n<span class=\"middot\">·</span>\\n</span>\\n<span class=\"tweet-actions\">\\n<a class=\"first\" href=\"/WSJLogistics/reply/1305446263123574784?p=r\">\\n<img alt=\"Reply\" src=\"https://ma.twimg.com/twitter-mobile/a8491f04da4e54be98cff3a86c58f23a770c26bd/images/sprites/tweet_reply.gif\"/>\\n</a>\\n<a href=\"/statuses/1305446263123574784/retweet?p=t\">\\n<img alt=\"Retweet\" src=\"https://ma.twimg.com/twitter-mobile/a8491f04da4e54be98cff3a86c58f23a770c26bd/images/sprites/tweet_rt.gif\"/>\\n</a>\\n<a class=\"favorite\" href=\"/statuses/1305446263123574784/favorite?p=f&amp;authenticity_token=2b7e26cb1e8e4b09978b2591e348a6cd821c37f6\">\\n<img alt=\"Like\" src=\"https://ma.twimg.com/twitter-mobile/a8491f04da4e54be98cff3a86c58f23a770c26bd/images/sprites/tweet_heart.gif\"/>\\n</a>\\n<a class=\"last\" href=\"/WSJLogistics/status/1305446263123574784/actions\"></a>\\n</span>\\n</td>\\n</tr>\\n</table>',\n",
       "  'data-item-id': '1305446263123574784',\n",
       "  'data-conversation-id': '1305446263123574784',\n",
       "  'username': '@WSJLogistics',\n",
       "  'tweet': \"  The head of the world’s fourth-largest container line says the carrier's future will increasingly be built on e-commerce. on.wsj.com/3mgM04b via @WSJ\\n\",\n",
       "  'avatar': 'https://pbs.twimg.com/profile_images/954404125848014848/Xk6aVfEb_normal.jpg',\n",
       "  'date': '2020-09-14'},\n",
       " {'all-data': '<table class=\"tweet\" href=\"/WSJLogistics/status/1308034172464791552?p=v\">\\n<tr class=\"tweet-header\">\\n<td class=\"avatar\" rowspan=\"3\">\\n<a href=\"/WSJLogistics?p=i\">\\n<img alt=\"WSJ Logistics Report\" src=\"https://pbs.twimg.com/profile_images/954404125848014848/Xk6aVfEb_normal.jpg\">\\n</img></a>\\n</td>\\n<td class=\"user-info\">\\n<a href=\"/WSJLogistics?p=s\">\\n<strong class=\"fullname\">WSJ Logistics Report</strong>\\n<div class=\"username\">\\n<span>@</span>WSJLogistics\\n    </div>\\n</a>\\n</td>\\n<td class=\"timestamp\">\\n<a href=\"/WSJLogistics/status/1308034172464791552?p=p\" name=\"tweet_1308034172464791552\">Sep 21</a>\\n</td>\\n</tr>\\n<tr class=\"tweet-container\">\\n<td class=\"tweet-content\" colspan=\"2\">\\n<div class=\"tweet-text\" data-id=\"1308034172464791552\">\\n<div class=\"dir-ltr\" dir=\"ltr\">  Nikola executive chairman Trevor Milton resigned from the electric-truck startup he founded in 2015.  <a class=\"twitter_external_link dir-ltr tco-link\" data-expanded-url=\"https://on.wsj.com/3iPJkZt\" data-url=\"https://on.wsj.com/3iPJkZt\" dir=\"ltr\" href=\"https://t.co/gWFpoC8hcP\" rel=\"nofollow noopener\" target=\"_blank\" title=\"https://on.wsj.com/3iPJkZt\">on.wsj.com/3iPJkZt</a> via <a class=\"twitter-atreply dir-ltr\" data-mentioned-user-id=\"3108351\" data-screenname=\"WSJ\" dir=\"ltr\" href=\"/WSJ\">@WSJ</a>\\n</div>\\n</div>\\n</td>\\n</tr>\\n<tr>\\n<td class=\"meta-and-actions\" colspan=\"2\">\\n<span class=\"metadata\">\\n<a href=\"/WSJLogistics/status/1308034172464791552?p=v\">View summary</a>\\n<span class=\"middot\">·</span>\\n</span>\\n<span class=\"tweet-actions\">\\n<a class=\"first\" href=\"/WSJLogistics/reply/1308034172464791552?p=r\">\\n<img alt=\"Reply\" src=\"https://ma.twimg.com/twitter-mobile/a8491f04da4e54be98cff3a86c58f23a770c26bd/images/sprites/tweet_reply.gif\"/>\\n</a>\\n<a href=\"/statuses/1308034172464791552/retweet?p=t\">\\n<img alt=\"Retweet\" src=\"https://ma.twimg.com/twitter-mobile/a8491f04da4e54be98cff3a86c58f23a770c26bd/images/sprites/tweet_rt.gif\"/>\\n</a>\\n<a class=\"favorite\" href=\"/statuses/1308034172464791552/favorite?p=f&amp;authenticity_token=2b7e26cb1e8e4b09978b2591e348a6cd821c37f6\">\\n<img alt=\"Like\" src=\"https://ma.twimg.com/twitter-mobile/a8491f04da4e54be98cff3a86c58f23a770c26bd/images/sprites/tweet_heart.gif\"/>\\n</a>\\n<a class=\"last\" href=\"/WSJLogistics/status/1308034172464791552/actions\"></a>\\n</span>\\n</td>\\n</tr>\\n</table>',\n",
       "  'data-item-id': '1308034172464791552',\n",
       "  'data-conversation-id': '1308034172464791552',\n",
       "  'username': '@WSJLogistics',\n",
       "  'tweet': '  Nikola executive chairman Trevor Milton resigned from the electric-truck startup he founded in 2015.  on.wsj.com/3iPJkZt via @WSJ\\n',\n",
       "  'avatar': 'https://pbs.twimg.com/profile_images/954404125848014848/Xk6aVfEb_normal.jpg',\n",
       "  'date': '2020-09-21'},\n",
       " {'all-data': '<table class=\"tweet\" href=\"/WSJLogistics/status/1302943455602249734?p=v\">\\n<tr class=\"tweet-header\">\\n<td class=\"avatar\" rowspan=\"3\">\\n<a href=\"/WSJLogistics?p=i\">\\n<img alt=\"WSJ Logistics Report\" src=\"https://pbs.twimg.com/profile_images/954404125848014848/Xk6aVfEb_normal.jpg\">\\n</img></a>\\n</td>\\n<td class=\"user-info\">\\n<a href=\"/WSJLogistics?p=s\">\\n<strong class=\"fullname\">WSJ Logistics Report</strong>\\n<div class=\"username\">\\n<span>@</span>WSJLogistics\\n    </div>\\n</a>\\n</td>\\n<td class=\"timestamp\">\\n<a href=\"/WSJLogistics/status/1302943455602249734?p=p\" name=\"tweet_1302943455602249734\">Sep 7</a>\\n</td>\\n</tr>\\n<tr class=\"tweet-container\">\\n<td class=\"tweet-content\" colspan=\"2\">\\n<div class=\"tweet-text\" data-id=\"1302943455602249734\">\\n<div class=\"dir-ltr\" dir=\"ltr\">  “Go into a Target, a Walmart … you’ll still see empty shelves. Today they are operating off some extremely low inventory just based off that shift in consumer buying behavior.” \\n<a class=\"twitter_external_link dir-ltr tco-link\" data-expanded-url=\"https://on.wsj.com/3ict2sY\" data-url=\"https://on.wsj.com/3ict2sY\" dir=\"ltr\" href=\"https://t.co/ZHagDRJYxz\" rel=\"nofollow noopener\" target=\"_blank\" title=\"https://on.wsj.com/3ict2sY\">on.wsj.com/3ict2sY</a> via <a class=\"twitter-atreply dir-ltr\" data-mentioned-user-id=\"3108351\" data-screenname=\"WSJ\" dir=\"ltr\" href=\"/WSJ\">@WSJ</a>\\n</div>\\n</div>\\n</td>\\n</tr>\\n<tr>\\n<td class=\"meta-and-actions\" colspan=\"2\">\\n<span class=\"metadata\">\\n<a href=\"/WSJLogistics/status/1302943455602249734?p=v\">View summary</a>\\n<span class=\"middot\">·</span>\\n</span>\\n<span class=\"tweet-actions\">\\n<a class=\"first\" href=\"/WSJLogistics/reply/1302943455602249734?p=r\">\\n<img alt=\"Reply\" src=\"https://ma.twimg.com/twitter-mobile/a8491f04da4e54be98cff3a86c58f23a770c26bd/images/sprites/tweet_reply.gif\"/>\\n</a>\\n<a href=\"/statuses/1302943455602249734/retweet?p=t\">\\n<img alt=\"Retweet\" src=\"https://ma.twimg.com/twitter-mobile/a8491f04da4e54be98cff3a86c58f23a770c26bd/images/sprites/tweet_rt.gif\"/>\\n</a>\\n<a class=\"favorite\" href=\"/statuses/1302943455602249734/favorite?p=f&amp;authenticity_token=2b7e26cb1e8e4b09978b2591e348a6cd821c37f6\">\\n<img alt=\"Like\" src=\"https://ma.twimg.com/twitter-mobile/a8491f04da4e54be98cff3a86c58f23a770c26bd/images/sprites/tweet_heart.gif\"/>\\n</a>\\n<a class=\"last\" href=\"/WSJLogistics/status/1302943455602249734/actions\"></a>\\n</span>\\n</td>\\n</tr>\\n</table>',\n",
       "  'data-item-id': '1302943455602249734',\n",
       "  'data-conversation-id': '1302943455602249734',\n",
       "  'username': '@WSJLogistics',\n",
       "  'tweet': '  “Go into a Target, a Walmart … you’ll still see empty shelves. Today they are operating off some extremely low inventory just based off that shift in consumer buying behavior.” \\non.wsj.com/3ict2sY via @WSJ\\n',\n",
       "  'avatar': 'https://pbs.twimg.com/profile_images/954404125848014848/Xk6aVfEb_normal.jpg',\n",
       "  'date': '2020-09-07'},\n",
       " {'all-data': '<table class=\"tweet\" href=\"/WSJLogistics/status/1304596849643474945?p=v\">\\n<tr class=\"tweet-header\">\\n<td class=\"avatar\" rowspan=\"3\">\\n<a href=\"/WSJLogistics?p=i\">\\n<img alt=\"WSJ Logistics Report\" src=\"https://pbs.twimg.com/profile_images/954404125848014848/Xk6aVfEb_normal.jpg\">\\n</img></a>\\n</td>\\n<td class=\"user-info\">\\n<a href=\"/WSJLogistics?p=s\">\\n<strong class=\"fullname\">WSJ Logistics Report</strong>\\n<div class=\"username\">\\n<span>@</span>WSJLogistics\\n    </div>\\n</a>\\n</td>\\n<td class=\"timestamp\">\\n<a href=\"/WSJLogistics/status/1304596849643474945?p=p\" name=\"tweet_1304596849643474945\">Sep 11</a>\\n</td>\\n</tr>\\n<tr class=\"tweet-container\">\\n<td class=\"tweet-content\" colspan=\"2\">\\n<div class=\"tweet-text\" data-id=\"1304596849643474945\">\\n<div class=\"dir-ltr\" dir=\"ltr\">  Today’s Top Supply Chain &amp; Logistics News <a class=\"twitter_external_link dir-ltr tco-link\" data-expanded-url=\"https://on.wsj.com/3hilUu9\" data-url=\"https://on.wsj.com/3hilUu9\" dir=\"ltr\" href=\"https://t.co/gxDiIQneqm\" rel=\"nofollow noopener\" target=\"_blank\" title=\"https://on.wsj.com/3hilUu9\">on.wsj.com/3hilUu9</a> via <a class=\"twitter-atreply dir-ltr\" data-mentioned-user-id=\"3108351\" data-screenname=\"WSJ\" dir=\"ltr\" href=\"/WSJ\">@WSJ</a>\\n</div>\\n</div>\\n</td>\\n</tr>\\n<tr>\\n<td class=\"meta-and-actions\" colspan=\"2\">\\n<span class=\"metadata\">\\n<a href=\"/WSJLogistics/status/1304596849643474945?p=v\">View summary</a>\\n<span class=\"middot\">·</span>\\n</span>\\n<span class=\"tweet-actions\">\\n<a class=\"first\" href=\"/WSJLogistics/reply/1304596849643474945?p=r\">\\n<img alt=\"Reply\" src=\"https://ma.twimg.com/twitter-mobile/a8491f04da4e54be98cff3a86c58f23a770c26bd/images/sprites/tweet_reply.gif\"/>\\n</a>\\n<a href=\"/statuses/1304596849643474945/retweet?p=t\">\\n<img alt=\"Retweet\" src=\"https://ma.twimg.com/twitter-mobile/a8491f04da4e54be98cff3a86c58f23a770c26bd/images/sprites/tweet_rt.gif\"/>\\n</a>\\n<a class=\"favorite\" href=\"/statuses/1304596849643474945/favorite?p=f&amp;authenticity_token=2b7e26cb1e8e4b09978b2591e348a6cd821c37f6\">\\n<img alt=\"Like\" src=\"https://ma.twimg.com/twitter-mobile/a8491f04da4e54be98cff3a86c58f23a770c26bd/images/sprites/tweet_heart.gif\"/>\\n</a>\\n<a class=\"last\" href=\"/WSJLogistics/status/1304596849643474945/actions\"></a>\\n</span>\\n</td>\\n</tr>\\n</table>',\n",
       "  'data-item-id': '1304596849643474945',\n",
       "  'data-conversation-id': '1304596849643474945',\n",
       "  'username': '@WSJLogistics',\n",
       "  'tweet': '  Today’s Top Supply Chain & Logistics News on.wsj.com/3hilUu9 via @WSJ\\n',\n",
       "  'avatar': 'https://pbs.twimg.com/profile_images/954404125848014848/Xk6aVfEb_normal.jpg',\n",
       "  'date': '2020-09-11'},\n",
       " {'all-data': '<table class=\"tweet\" href=\"/WSJLogistics/status/1311116579506130944?p=v\">\\n<tr class=\"tweet-header\">\\n<td class=\"avatar\" rowspan=\"3\">\\n<a href=\"/WSJLogistics?p=i\">\\n<img alt=\"WSJ Logistics Report\" src=\"https://pbs.twimg.com/profile_images/954404125848014848/Xk6aVfEb_normal.jpg\">\\n</img></a>\\n</td>\\n<td class=\"user-info\">\\n<a href=\"/WSJLogistics?p=s\">\\n<strong class=\"fullname\">WSJ Logistics Report</strong>\\n<div class=\"username\">\\n<span>@</span>WSJLogistics\\n    </div>\\n</a>\\n</td>\\n<td class=\"timestamp\">\\n<a href=\"/WSJLogistics/status/1311116579506130944?p=p\" name=\"tweet_1311116579506130944\">Sep 29</a>\\n</td>\\n</tr>\\n<tr class=\"tweet-container\">\\n<td class=\"tweet-content\" colspan=\"2\">\\n<div class=\"tweet-text\" data-id=\"1311116579506130944\">\\n<div class=\"dir-ltr\" dir=\"ltr\">  Cyberattack Hits Shipping; Fueling Up Hydrogen; China’s Domestic Distribution: Today’s Top Supply Chain News\\n<a class=\"twitter_external_link dir-ltr tco-link\" data-expanded-url=\"https://on.wsj.com/3if4rmP\" data-url=\"https://on.wsj.com/3if4rmP\" dir=\"ltr\" href=\"https://t.co/QKTXJvyyx2\" rel=\"nofollow noopener\" target=\"_blank\" title=\"https://on.wsj.com/3if4rmP\">on.wsj.com/3if4rmP</a>\\nvia <a class=\"twitter-atreply dir-ltr\" data-mentioned-user-id=\"3108351\" data-screenname=\"WSJ\" dir=\"ltr\" href=\"/WSJ\">@WSJ</a> <a class=\"twitter_external_link dir-ltr tco-link has-expanded-path\" data-entity-id=\"1311116575018307591\" data-expanded-path=\"/WSJLogistics/status/1311116579506130944/photo/1\" data-pre-embedded=\"true\" data-tco-id=\"SD73kS7F4F\" data-url=\"https://twitter.com/WSJLogistics/status/1311116579506130944/photo/1\" dir=\"ltr\" href=\"https://t.co/SD73kS7F4F\" rel=\"nofollow\" target=\"_top\">pic.twitter.com/SD73kS7F4F</a>\\n</div>\\n</div>\\n</td>\\n</tr>\\n<tr>\\n<td class=\"meta-and-actions\" colspan=\"2\">\\n<div class=\"card-photo\">\\n<div class=\"media\">\\n<img height=\"133\" src=\"https://pbs.twimg.com/media/EjIFlBEX0AcXLL4.jpg:small\" width=\"200\">\\n</img></div>\\n<div class=\"description\"> </div>\\n</div>\\n<span class=\"metadata\">\\n<a href=\"/WSJLogistics/status/1311116579506130944?p=v\">View photo</a>\\n<span class=\"middot\">·</span>\\n</span>\\n<span class=\"tweet-actions\">\\n<a class=\"first\" href=\"/WSJLogistics/reply/1311116579506130944?p=r\">\\n<img alt=\"Reply\" src=\"https://ma.twimg.com/twitter-mobile/a8491f04da4e54be98cff3a86c58f23a770c26bd/images/sprites/tweet_reply.gif\"/>\\n</a>\\n<a href=\"/statuses/1311116579506130944/retweet?p=t\">\\n<img alt=\"Retweet\" src=\"https://ma.twimg.com/twitter-mobile/a8491f04da4e54be98cff3a86c58f23a770c26bd/images/sprites/tweet_rt.gif\"/>\\n</a>\\n<a class=\"favorite\" href=\"/statuses/1311116579506130944/favorite?p=f&amp;authenticity_token=2b7e26cb1e8e4b09978b2591e348a6cd821c37f6\">\\n<img alt=\"Like\" src=\"https://ma.twimg.com/twitter-mobile/a8491f04da4e54be98cff3a86c58f23a770c26bd/images/sprites/tweet_heart.gif\"/>\\n</a>\\n<a class=\"last\" href=\"/WSJLogistics/status/1311116579506130944/actions\"></a>\\n</span>\\n</td>\\n</tr>\\n</table>',\n",
       "  'data-item-id': '1311116579506130944',\n",
       "  'data-conversation-id': '1311116579506130944',\n",
       "  'username': '@WSJLogistics',\n",
       "  'tweet': '  Cyberattack Hits Shipping; Fueling Up Hydrogen; China’s Domestic Distribution: Today’s Top Supply Chain News\\non.wsj.com/3if4rmP\\nvia @WSJ pic.twitter.com/SD73kS7F4F\\n',\n",
       "  'avatar': 'https://pbs.twimg.com/profile_images/954404125848014848/Xk6aVfEb_normal.jpg',\n",
       "  'date': '2020-09-29'}]"
      ]
     },
     "execution_count": 4,
     "metadata": {},
     "output_type": "execute_result"
    }
   ],
   "source": [
    "tlist"
   ]
  },
  {
   "cell_type": "code",
   "execution_count": null,
   "metadata": {},
   "outputs": [],
   "source": []
  }
 ],
 "metadata": {
  "kernelspec": {
   "display_name": "wsj_tweet_scrapping",
   "language": "python",
   "name": "wsj_tweet_scrapping"
  },
  "language_info": {
   "codemirror_mode": {
    "name": "ipython",
    "version": 3
   },
   "file_extension": ".py",
   "mimetype": "text/x-python",
   "name": "python",
   "nbconvert_exporter": "python",
   "pygments_lexer": "ipython3",
   "version": "3.8.5"
  }
 },
 "nbformat": 4,
 "nbformat_minor": 4
}
