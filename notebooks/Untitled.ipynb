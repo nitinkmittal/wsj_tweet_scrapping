{
 "cells": [
  {
   "cell_type": "code",
   "execution_count": 1,
   "id": "3385fd95",
   "metadata": {},
   "outputs": [],
   "source": [
    "%load_ext autoreload\n",
    "%autoreload 2"
   ]
  },
  {
   "cell_type": "code",
   "execution_count": 2,
   "id": "7d562942",
   "metadata": {},
   "outputs": [],
   "source": [
    "import requests\n",
    "from bs4 import BeautifulSoup as soup"
   ]
  },
  {
   "cell_type": "code",
   "execution_count": 4,
   "id": "99fbf698",
   "metadata": {},
   "outputs": [],
   "source": [
    "from wsj_tweet_scrapping.chrome_driver import (\n",
    "    open_driver, \n",
    "    load_url, \n",
    "    get_driver_page_source)\n",
    "from wsj_tweet_scrapping.utils import dump_pickle, load_pickle"
   ]
  },
  {
   "cell_type": "code",
   "execution_count": 3,
   "id": "a18e628e",
   "metadata": {},
   "outputs": [],
   "source": [
    "req = requests.get(\"https://on.wsj.com/2DvhNZX\", 'html.parser')"
   ]
  },
  {
   "cell_type": "code",
   "execution_count": 8,
   "id": "914e2ff2",
   "metadata": {},
   "outputs": [],
   "source": [
    "p = soup(req.text)"
   ]
  },
  {
   "cell_type": "code",
   "execution_count": 10,
   "id": "4fab403b",
   "metadata": {},
   "outputs": [
    {
     "data": {
      "text/plain": [
       "[<p aria-hidden=\"true\" aria-label=\"Column Name\" class=\"style--column-name--2-jhrm36\" id=\"footer-wsj-membership\">WSJ Membership</p>,\n",
       " <p aria-hidden=\"true\" aria-label=\"Column Name\" class=\"style--column-name--2-jhrm36\" id=\"footer-customer-service\">Customer Service</p>,\n",
       " <p aria-hidden=\"true\" aria-label=\"Column Name\" class=\"style--column-name--2-jhrm36\" id=\"footer-tools-&amp;-features\">Tools &amp; Features</p>,\n",
       " <p aria-hidden=\"true\" aria-label=\"Column Name\" class=\"style--column-name--2-jhrm36\" id=\"footer-ads\">Ads</p>,\n",
       " <p aria-hidden=\"true\" aria-label=\"Column Name\" class=\"style--column-name--2-jhrm36\" id=\"footer-more\">More</p>,\n",
       " <p class=\"style--products-title--1iCS_smA\" id=\"footer-products-title\">Dow Jones Products</p>]"
      ]
     },
     "execution_count": 10,
     "metadata": {},
     "output_type": "execute_result"
    }
   ],
   "source": [
    "p.find_all(\"p\")"
   ]
  },
  {
   "cell_type": "code",
   "execution_count": null,
   "id": "acd60f1f",
   "metadata": {},
   "outputs": [],
   "source": []
  }
 ],
 "metadata": {
  "kernelspec": {
   "display_name": "wsj_tweet_scrapping",
   "language": "python",
   "name": "wsj_tweet_scrapping"
  },
  "language_info": {
   "codemirror_mode": {
    "name": "ipython",
    "version": 3
   },
   "file_extension": ".py",
   "mimetype": "text/x-python",
   "name": "python",
   "nbconvert_exporter": "python",
   "pygments_lexer": "ipython3",
   "version": "3.9.6"
  }
 },
 "nbformat": 4,
 "nbformat_minor": 5
}
