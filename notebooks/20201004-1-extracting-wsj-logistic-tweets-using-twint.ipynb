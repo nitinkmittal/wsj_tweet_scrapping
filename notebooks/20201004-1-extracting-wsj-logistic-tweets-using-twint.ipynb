{
 "cells": [
  {
   "cell_type": "code",
   "execution_count": 1,
   "metadata": {},
   "outputs": [],
   "source": [
    "%load_ext autoreload\n",
    "%autoreload 2"
   ]
  },
  {
   "cell_type": "code",
   "execution_count": 4,
   "metadata": {},
   "outputs": [],
   "source": [
    "import numpy as np"
   ]
  },
  {
   "cell_type": "code",
   "execution_count": 5,
   "metadata": {},
   "outputs": [
    {
     "data": {
      "text/plain": [
       "array(10)"
      ]
     },
     "execution_count": 5,
     "metadata": {},
     "output_type": "execute_result"
    }
   ],
   "source": [
    "np.array(10)"
   ]
  },
  {
   "cell_type": "code",
   "execution_count": 37,
   "metadata": {},
   "outputs": [],
   "source": [
    "import twint\n",
    "import datetime as dt\n",
    "import pandas as pd\n",
    "from os import getcwd\n",
    "from tqdm import tqdm\n",
    "from time import sleep\n",
    "from bs4 import BeautifulSoup\n",
    "from random import randint\n",
    "import nest_asyncio\n",
    "nest_asyncio.apply()"
   ]
  },
  {
   "cell_type": "code",
   "execution_count": 8,
   "metadata": {},
   "outputs": [],
   "source": [
    "PROJECT_NAME = \"wsj_tweet_scrapping\"\n",
    "PROJECT_PATH = getcwd()[: getcwd().find(PROJECT_NAME) + len(PROJECT_NAME)]\n",
    "DATA_PATH = f\"{PROJECT_PATH}\\\\data\"\n",
    "EXCEL_PATH = f\"{DATA_PATH}\\\\excel\""
   ]
  },
  {
   "cell_type": "code",
   "execution_count": 9,
   "metadata": {},
   "outputs": [],
   "source": [
    "def get_monthly_wsj_tweets(year, month, limit = 1000):\n",
    "    config = twint.Config()\n",
    "    config.Search = \"from:WSJLogistics\"\n",
    "    start_date = dt.date(year = year, month = month, day = 1)\n",
    "    end_date = start_date + dt.timedelta(days = 31)\n",
    "    config.Since = str(start_date)\n",
    "    config.Until = str(end_date)\n",
    "    config.Limit = limit\n",
    "    twint.run.Search(config)\n",
    "    return config.search_tweet_list"
   ]
  },
  {
   "cell_type": "code",
   "execution_count": 42,
   "metadata": {},
   "outputs": [],
   "source": [
    "dates = pd.date_range(start=dt.date(2009,1,1), end=dt.date(2010,12,1), freq=pd.offsets.MonthBegin(1))\n",
    "dates = dates.sort_values(ascending=False)"
   ]
  },
  {
   "cell_type": "code",
   "execution_count": 43,
   "metadata": {},
   "outputs": [
    {
     "name": "stderr",
     "output_type": "stream",
     "text": [
      "Iter : 23, year : 2009, month : 1: 100%|███████████████████████████████████████████████| 24/24 [03:12<00:00,  8.03s/it]\n"
     ]
    }
   ],
   "source": [
    "t = tqdm(range(len(dates)))\n",
    "for i in t:\n",
    "    year = dates[i].year\n",
    "    month = dates[i].month\n",
    "    t.set_description(f\"Iter : {i}, year : {year}, month : {month}\")\n",
    "    results = get_monthly_wsj_tweets(year = year, month = month, limit= 100)\n",
    "    file_name = f\"twint_wsj_logistics_tweets_{year}_{str(month).rjust(2,'0')}\"\n",
    "    results = pd.DataFrame(results)\n",
    "    results.to_excel(f\"{EXCEL_PATH}\\\\{file_name}.xlsx\", index=False)\n",
    "    sleep(randint(4,7))"
   ]
  },
  {
   "cell_type": "code",
   "execution_count": 10,
   "metadata": {},
   "outputs": [],
   "source": [
    "year = 2018\n",
    "month = 1"
   ]
  },
  {
   "cell_type": "code",
   "execution_count": 11,
   "metadata": {},
   "outputs": [
    {
     "name": "stdout",
     "output_type": "stream",
     "text": [
      "Wall time: 2.83 s\n"
     ]
    }
   ],
   "source": [
    "%%time\n",
    "results = get_monthly_wsj_tweets(year = year, month = month, limit= 100)"
   ]
  },
  {
   "cell_type": "code",
   "execution_count": 12,
   "metadata": {},
   "outputs": [
    {
     "name": "stdout",
     "output_type": "stream",
     "text": [
      "found 100 entries for 2018-01\n"
     ]
    }
   ],
   "source": [
    "file_name = f\"twint_wsj_logistics_tweets_{year}_{str(month).rjust(2,'0')}\"\n",
    "results = pd.DataFrame(results)\n",
    "print(f\"found {len(results)} entries for {year}-{str(month).rjust(2,'0')}\")\n",
    "results.to_excel(f\"{EXCEL_PATH}\\\\{file_name}.xlsx\", index=False)"
   ]
  },
  {
   "cell_type": "code",
   "execution_count": 13,
   "metadata": {},
   "outputs": [
    {
     "data": {
      "text/html": [
       "<div>\n",
       "<style scoped>\n",
       "    .dataframe tbody tr th:only-of-type {\n",
       "        vertical-align: middle;\n",
       "    }\n",
       "\n",
       "    .dataframe tbody tr th {\n",
       "        vertical-align: top;\n",
       "    }\n",
       "\n",
       "    .dataframe thead th {\n",
       "        text-align: right;\n",
       "    }\n",
       "</style>\n",
       "<table border=\"1\" class=\"dataframe\">\n",
       "  <thead>\n",
       "    <tr style=\"text-align: right;\">\n",
       "      <th></th>\n",
       "      <th>all-data</th>\n",
       "      <th>data-item-id</th>\n",
       "      <th>data-conversation-id</th>\n",
       "      <th>username</th>\n",
       "      <th>tweet</th>\n",
       "      <th>avatar</th>\n",
       "      <th>date</th>\n",
       "    </tr>\n",
       "  </thead>\n",
       "  <tbody>\n",
       "    <tr>\n",
       "      <th>0</th>\n",
       "      <td>&lt;table class=\"tweet\" href=\"/WSJLogistics/statu...</td>\n",
       "      <td>956562350156414977</td>\n",
       "      <td>956562350156414977</td>\n",
       "      <td>@WSJLogistics</td>\n",
       "      <td>Need a truck? Better pay up. \\non.wsj.com/2B...</td>\n",
       "      <td>https://pbs.twimg.com/profile_images/954404125...</td>\n",
       "      <td>2018-01-25</td>\n",
       "    </tr>\n",
       "    <tr>\n",
       "      <th>1</th>\n",
       "      <td>&lt;table class=\"tweet\" href=\"/WSJLogistics/statu...</td>\n",
       "      <td>950429056088100865</td>\n",
       "      <td>950429056088100865</td>\n",
       "      <td>@WSJLogistics</td>\n",
       "      <td>A rare pullback in warehouse hiring\\non.wsj....</td>\n",
       "      <td>https://pbs.twimg.com/profile_images/954404125...</td>\n",
       "      <td>2018-01-08</td>\n",
       "    </tr>\n",
       "    <tr>\n",
       "      <th>2</th>\n",
       "      <td>&lt;table class=\"tweet\" href=\"/WSJLogistics/statu...</td>\n",
       "      <td>955903684168339457</td>\n",
       "      <td>955903684168339457</td>\n",
       "      <td>@WSJLogistics</td>\n",
       "      <td>Kimberly-Clark to cut 5,000 jobs, close 10 f...</td>\n",
       "      <td>https://pbs.twimg.com/profile_images/954404125...</td>\n",
       "      <td>2018-01-23</td>\n",
       "    </tr>\n",
       "    <tr>\n",
       "      <th>3</th>\n",
       "      <td>&lt;table class=\"tweet\" href=\"/WSJLogistics/statu...</td>\n",
       "      <td>953639374901653504</td>\n",
       "      <td>953639374901653504</td>\n",
       "      <td>@WSJLogistics</td>\n",
       "      <td>Cloud Peak in deal to supply coal to Japan\\n...</td>\n",
       "      <td>https://pbs.twimg.com/profile_images/954404125...</td>\n",
       "      <td>2018-01-17</td>\n",
       "    </tr>\n",
       "    <tr>\n",
       "      <th>4</th>\n",
       "      <td>&lt;table class=\"tweet\" href=\"/WSJLogistics/statu...</td>\n",
       "      <td>956558915390656513</td>\n",
       "      <td>956558915390656513</td>\n",
       "      <td>@WSJLogistics</td>\n",
       "      <td>The trucking shortage starts to bite shipper...</td>\n",
       "      <td>https://pbs.twimg.com/profile_images/954404125...</td>\n",
       "      <td>2018-01-25</td>\n",
       "    </tr>\n",
       "    <tr>\n",
       "      <th>...</th>\n",
       "      <td>...</td>\n",
       "      <td>...</td>\n",
       "      <td>...</td>\n",
       "      <td>...</td>\n",
       "      <td>...</td>\n",
       "      <td>...</td>\n",
       "      <td>...</td>\n",
       "    </tr>\n",
       "    <tr>\n",
       "      <th>95</th>\n",
       "      <td>&lt;table class=\"tweet\" href=\"/WSJLogistics/statu...</td>\n",
       "      <td>956555816898842626</td>\n",
       "      <td>956555816898842626</td>\n",
       "      <td>@WSJLogistics</td>\n",
       "      <td>Teamsters tell UPS: no drones, no driverless...</td>\n",
       "      <td>https://pbs.twimg.com/profile_images/954404125...</td>\n",
       "      <td>2018-01-25</td>\n",
       "    </tr>\n",
       "    <tr>\n",
       "      <th>96</th>\n",
       "      <td>&lt;table class=\"tweet\" href=\"/WSJLogistics/statu...</td>\n",
       "      <td>956537815952699392</td>\n",
       "      <td>956537815952699392</td>\n",
       "      <td>@WSJLogistics</td>\n",
       "      <td>In 1956, the shipping container revolutioniz...</td>\n",
       "      <td>https://pbs.twimg.com/profile_images/954404125...</td>\n",
       "      <td>2018-01-25</td>\n",
       "    </tr>\n",
       "    <tr>\n",
       "      <th>97</th>\n",
       "      <td>&lt;table class=\"tweet\" href=\"/WSJLogistics/statu...</td>\n",
       "      <td>956245079622078465</td>\n",
       "      <td>956245079622078465</td>\n",
       "      <td>@WSJLogistics</td>\n",
       "      <td>Trade wars and toilet paper, in today's Logi...</td>\n",
       "      <td>https://pbs.twimg.com/profile_images/954404125...</td>\n",
       "      <td>2018-01-24</td>\n",
       "    </tr>\n",
       "    <tr>\n",
       "      <th>98</th>\n",
       "      <td>&lt;table class=\"tweet\" href=\"/WSJLogistics/statu...</td>\n",
       "      <td>956228734436171776</td>\n",
       "      <td>956228734436171776</td>\n",
       "      <td>@WSJLogistics</td>\n",
       "      <td>How a steel box changed the world: a brief h...</td>\n",
       "      <td>https://pbs.twimg.com/profile_images/954404125...</td>\n",
       "      <td>2018-01-24</td>\n",
       "    </tr>\n",
       "    <tr>\n",
       "      <th>99</th>\n",
       "      <td>&lt;table class=\"tweet\" href=\"/WSJLogistics/statu...</td>\n",
       "      <td>956213392406208512</td>\n",
       "      <td>956213392406208512</td>\n",
       "      <td>@WSJLogistics</td>\n",
       "      <td>Finding a truck is \"like trying to get a cab...</td>\n",
       "      <td>https://pbs.twimg.com/profile_images/954404125...</td>\n",
       "      <td>2018-01-24</td>\n",
       "    </tr>\n",
       "  </tbody>\n",
       "</table>\n",
       "<p>100 rows × 7 columns</p>\n",
       "</div>"
      ],
      "text/plain": [
       "                                             all-data        data-item-id  \\\n",
       "0   <table class=\"tweet\" href=\"/WSJLogistics/statu...  956562350156414977   \n",
       "1   <table class=\"tweet\" href=\"/WSJLogistics/statu...  950429056088100865   \n",
       "2   <table class=\"tweet\" href=\"/WSJLogistics/statu...  955903684168339457   \n",
       "3   <table class=\"tweet\" href=\"/WSJLogistics/statu...  953639374901653504   \n",
       "4   <table class=\"tweet\" href=\"/WSJLogistics/statu...  956558915390656513   \n",
       "..                                                ...                 ...   \n",
       "95  <table class=\"tweet\" href=\"/WSJLogistics/statu...  956555816898842626   \n",
       "96  <table class=\"tweet\" href=\"/WSJLogistics/statu...  956537815952699392   \n",
       "97  <table class=\"tweet\" href=\"/WSJLogistics/statu...  956245079622078465   \n",
       "98  <table class=\"tweet\" href=\"/WSJLogistics/statu...  956228734436171776   \n",
       "99  <table class=\"tweet\" href=\"/WSJLogistics/statu...  956213392406208512   \n",
       "\n",
       "   data-conversation-id       username  \\\n",
       "0    956562350156414977  @WSJLogistics   \n",
       "1    950429056088100865  @WSJLogistics   \n",
       "2    955903684168339457  @WSJLogistics   \n",
       "3    953639374901653504  @WSJLogistics   \n",
       "4    956558915390656513  @WSJLogistics   \n",
       "..                  ...            ...   \n",
       "95   956555816898842626  @WSJLogistics   \n",
       "96   956537815952699392  @WSJLogistics   \n",
       "97   956245079622078465  @WSJLogistics   \n",
       "98   956228734436171776  @WSJLogistics   \n",
       "99   956213392406208512  @WSJLogistics   \n",
       "\n",
       "                                                tweet  \\\n",
       "0     Need a truck? Better pay up. \\non.wsj.com/2B...   \n",
       "1     A rare pullback in warehouse hiring\\non.wsj....   \n",
       "2     Kimberly-Clark to cut 5,000 jobs, close 10 f...   \n",
       "3     Cloud Peak in deal to supply coal to Japan\\n...   \n",
       "4     The trucking shortage starts to bite shipper...   \n",
       "..                                                ...   \n",
       "95    Teamsters tell UPS: no drones, no driverless...   \n",
       "96    In 1956, the shipping container revolutioniz...   \n",
       "97    Trade wars and toilet paper, in today's Logi...   \n",
       "98    How a steel box changed the world: a brief h...   \n",
       "99    Finding a truck is \"like trying to get a cab...   \n",
       "\n",
       "                                               avatar        date  \n",
       "0   https://pbs.twimg.com/profile_images/954404125...  2018-01-25  \n",
       "1   https://pbs.twimg.com/profile_images/954404125...  2018-01-08  \n",
       "2   https://pbs.twimg.com/profile_images/954404125...  2018-01-23  \n",
       "3   https://pbs.twimg.com/profile_images/954404125...  2018-01-17  \n",
       "4   https://pbs.twimg.com/profile_images/954404125...  2018-01-25  \n",
       "..                                                ...         ...  \n",
       "95  https://pbs.twimg.com/profile_images/954404125...  2018-01-25  \n",
       "96  https://pbs.twimg.com/profile_images/954404125...  2018-01-25  \n",
       "97  https://pbs.twimg.com/profile_images/954404125...  2018-01-24  \n",
       "98  https://pbs.twimg.com/profile_images/954404125...  2018-01-24  \n",
       "99  https://pbs.twimg.com/profile_images/954404125...  2018-01-24  \n",
       "\n",
       "[100 rows x 7 columns]"
      ]
     },
     "execution_count": 13,
     "metadata": {},
     "output_type": "execute_result"
    }
   ],
   "source": [
    "results"
   ]
  },
  {
   "cell_type": "code",
   "execution_count": 16,
   "metadata": {},
   "outputs": [
    {
     "data": {
      "text/plain": [
       "70"
      ]
     },
     "execution_count": 16,
     "metadata": {},
     "output_type": "execute_result"
    }
   ],
   "source": [
    "sum(results[\"tweet\"].duplicated())"
   ]
  },
  {
   "cell_type": "code",
   "execution_count": null,
   "metadata": {},
   "outputs": [],
   "source": []
  }
 ],
 "metadata": {
  "kernelspec": {
   "display_name": "wsj_tweet_scrapping",
   "language": "python",
   "name": "wsj_tweet_scrapping"
  },
  "language_info": {
   "codemirror_mode": {
    "name": "ipython",
    "version": 3
   },
   "file_extension": ".py",
   "mimetype": "text/x-python",
   "name": "python",
   "nbconvert_exporter": "python",
   "pygments_lexer": "ipython3",
   "version": "3.8.6"
  }
 },
 "nbformat": 4,
 "nbformat_minor": 4
}
