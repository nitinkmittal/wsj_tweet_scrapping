{
 "cells": [
  {
   "cell_type": "code",
   "execution_count": 1,
   "metadata": {},
   "outputs": [],
   "source": [
    "%load_ext autoreload\n",
    "%autoreload 2"
   ]
  },
  {
   "cell_type": "code",
   "execution_count": 2,
   "metadata": {},
   "outputs": [],
   "source": [
    "import requests\n",
    "import pandas as pd\n",
    "from os import getcwd\n",
    "import urllib3\n",
    "from bs4 import BeautifulSoup\n",
    "from typing import List"
   ]
  },
  {
   "cell_type": "code",
   "execution_count": 3,
   "metadata": {},
   "outputs": [],
   "source": [
    "PROJECT_NAME = \"wsj_tweet_scrapping\"\n",
    "PROJECT_PATH = getcwd()[: getcwd().find(PROJECT_NAME) + len(PROJECT_NAME)]\n",
    "DATA_PATH = f\"{PROJECT_PATH}\\\\data\"\n",
    "EXCEL_PATH = f\"{DATA_PATH}\\\\excel\""
   ]
  },
  {
   "cell_type": "code",
   "execution_count": 4,
   "metadata": {},
   "outputs": [],
   "source": [
    "def convert_str_to_list(urls : str):\n",
    "    \"\"\"Convert string into list.\"\"\"\n",
    "    return urls.strip(\"]['\").split(\", \") "
   ]
  },
  {
   "cell_type": "code",
   "execution_count": 5,
   "metadata": {},
   "outputs": [],
   "source": [
    "def extract_text_from_url(url):\n",
    "    \"\"\"Extract text from the URL.\"\"\"\n",
    "#     response = requests.get(url)\n",
    "#     soup = BeautifulSoup(response.text)\n",
    "    http = urllib3.PoolManager()\n",
    "    response = http.request(method=\"GET\", url=url)\n",
    "    soup = BeautifulSoup(response.data)\n",
    "    complete_texts = \"\"\n",
    "    for text in soup.find_all(name=\"p\"):\n",
    "        complete_texts += \" \" + text.text\n",
    "    return complete_texts"
   ]
  },
  {
   "cell_type": "code",
   "execution_count": 6,
   "metadata": {},
   "outputs": [],
   "source": [
    "def clean_text(text):\n",
    "    \"\"\"Clean input text.\"\"\"\n",
    "    discard_texts = [\"\\n\", \"\\t\", \"\\r\", \"\\xa0\"] \n",
    "    for word in discard_texts: \n",
    "        text = text.replace(word, \" \")\n",
    "    text = \" \".join(text.split())\n",
    "    return text"
   ]
  },
  {
   "cell_type": "code",
   "execution_count": 7,
   "metadata": {},
   "outputs": [],
   "source": [
    "year = 2020\n",
    "month = 8"
   ]
  },
  {
   "cell_type": "code",
   "execution_count": 8,
   "metadata": {},
   "outputs": [],
   "source": [
    "file_name = f\"wsj_logistics_tweets_{year}_{str(month).rjust(2,'0')}\"\n",
    "monthly_tweets = pd.read_excel(f\"{EXCEL_PATH}\\\\{file_name}.xlsx\")"
   ]
  },
  {
   "cell_type": "code",
   "execution_count": 9,
   "metadata": {},
   "outputs": [
    {
     "name": "stdout",
     "output_type": "stream",
     "text": [
      "- 1/31 -\n",
      "1/1\n",
      "- 2/31 -\n",
      "1/1\n",
      "- 3/31 -\n",
      "1/1\n",
      "- 4/31 -\n",
      "1/1\n",
      "- 5/31 -\n",
      "1/1\n",
      "- 6/31 -\n",
      "1/1\n",
      "- 7/31 -\n",
      "1/1\n",
      "- 8/31 -\n",
      "1/1\n",
      "- 9/31 -\n",
      "1/1\n",
      "- 10/31 -\n",
      "1/1\n",
      "- 11/31 -\n",
      "1/1\n",
      "- 12/31 -\n",
      "1/1\n",
      "- 13/31 -\n",
      "1/1\n",
      "- 14/31 -\n",
      "1/1\n",
      "- 15/31 -\n",
      "1/1\n",
      "- 16/31 -\n",
      "1/1\n",
      "- 17/31 -\n",
      "1/1\n",
      "- 18/31 -\n",
      "1/1\n",
      "- 19/31 -\n",
      "1/1\n",
      "- 20/31 -\n",
      "1/1\n",
      "- 21/31 -\n",
      "1/1\n",
      "- 22/31 -\n",
      "1/1\n",
      "- 23/31 -\n",
      "1/1\n",
      "- 24/31 -\n",
      "1/1\n",
      "- 25/31 -\n",
      "1/1\n",
      "- 26/31 -\n",
      "1/1\n",
      "- 27/31 -\n",
      "1/1\n",
      "- 28/31 -\n",
      "1/1\n",
      "- 29/31 -\n",
      "1/1\n",
      "- 30/31 -\n",
      "1/1\n",
      "- 31/31 -\n",
      "1/1\n"
     ]
    }
   ],
   "source": [
    "monthly_texts = []\n",
    "for i in range(len(monthly_tweets)):\n",
    "    print(f\"- {i+1}/{len(monthly_tweets)} -\")\n",
    "    urls = monthly_tweets[\"links\"].iloc[i]\n",
    "    urls = convert_str_to_list(urls)\n",
    "    date = monthly_tweets[\"timestamp\"].iloc[i]\n",
    "    for j, url in enumerate(urls):\n",
    "        print(f\"{j+1}/{len(urls)}\")\n",
    "        text = extract_text_from_url(url)\n",
    "        text = clean_text(text)\n",
    "        text = {\"date\": date, \"text\": text}\n",
    "        monthly_texts.append(text) \n",
    "monthly_texts_df = pd.DataFrame(monthly_texts)"
   ]
  },
  {
   "cell_type": "code",
   "execution_count": 10,
   "metadata": {},
   "outputs": [],
   "source": [
    "file_name = f\"wsj_logistics_news_{year}_{str(month).rjust(2,'0')}\"\n",
    "monthly_texts_df.drop_duplicates(\"text\").to_excel(f\"{EXCEL_PATH}\\\\{file_name}.xlsx\", index=False)"
   ]
  }
 ],
 "metadata": {
  "kernelspec": {
   "display_name": "wsj_tweet_scrapping",
   "language": "python",
   "name": "wsj_tweet_scrapping"
  },
  "language_info": {
   "codemirror_mode": {
    "name": "ipython",
    "version": 3
   },
   "file_extension": ".py",
   "mimetype": "text/x-python",
   "name": "python",
   "nbconvert_exporter": "python",
   "pygments_lexer": "ipython3",
   "version": "3.8.5"
  }
 },
 "nbformat": 4,
 "nbformat_minor": 4
}
