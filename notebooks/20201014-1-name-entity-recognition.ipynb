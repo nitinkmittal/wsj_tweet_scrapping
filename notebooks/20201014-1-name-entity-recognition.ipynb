{
 "cells": [
  {
   "cell_type": "code",
   "execution_count": 78,
   "metadata": {},
   "outputs": [],
   "source": [
    "%load_ext autoreload\n",
    "%autoreload 2"
   ]
  },
  {
   "cell_type": "code",
   "execution_count": 16,
   "metadata": {},
   "outputs": [],
   "source": [
    "import pandas as pd\n",
    "from tqdm import tqdm\n",
    "from os import getcwd, path as base_path\n",
    "from spacy import displacy\n",
    "from collections import Counter\n",
    "import en_core_web_sm\n",
    "from typing import List\n",
    "\n",
    "import io"
   ]
  },
  {
   "cell_type": "code",
   "execution_count": 2,
   "metadata": {},
   "outputs": [],
   "source": [
    "from sys import path\n",
    "PROJECT_PATH = getcwd()[:getcwd().find(\"notebooks\")][:-1]\n",
    "path.append(f\"{PROJECT_PATH}\\\\src\")"
   ]
  },
  {
   "cell_type": "code",
   "execution_count": 79,
   "metadata": {},
   "outputs": [],
   "source": [
    "from utils import find_urls_in_text"
   ]
  },
  {
   "cell_type": "code",
   "execution_count": 3,
   "metadata": {},
   "outputs": [],
   "source": [
    "PROJECT_NAME = \"wsj_tweet_scrapping\"\n",
    "PROJECT_PATH = getcwd()[: getcwd().find(PROJECT_NAME) + len(PROJECT_NAME)]\n",
    "DATA_PATH = f\"{PROJECT_PATH}\\\\data\"\n",
    "EXCEL_PATH = f\"{DATA_PATH}\\\\excel\""
   ]
  },
  {
   "cell_type": "code",
   "execution_count": 4,
   "metadata": {},
   "outputs": [],
   "source": [
    "from_year = 2011\n",
    "to_year = 2020\n",
    "news_df = pd.read_excel(f\"{EXCEL_PATH}\\\\wsj_logistics_news_{from_year}-{to_year}.xlsx\")\n",
    "news_df.dropna(inplace=True)"
   ]
  },
  {
   "cell_type": "code",
   "execution_count": 5,
   "metadata": {},
   "outputs": [
    {
     "data": {
      "text/html": [
       "<div>\n",
       "<style scoped>\n",
       "    .dataframe tbody tr th:only-of-type {\n",
       "        vertical-align: middle;\n",
       "    }\n",
       "\n",
       "    .dataframe tbody tr th {\n",
       "        vertical-align: top;\n",
       "    }\n",
       "\n",
       "    .dataframe thead th {\n",
       "        text-align: right;\n",
       "    }\n",
       "</style>\n",
       "<table border=\"1\" class=\"dataframe\">\n",
       "  <thead>\n",
       "    <tr style=\"text-align: right;\">\n",
       "      <th></th>\n",
       "      <th>data-item-id</th>\n",
       "      <th>data-conversation-id</th>\n",
       "      <th>date</th>\n",
       "      <th>tweet</th>\n",
       "      <th>url</th>\n",
       "      <th>text</th>\n",
       "      <th>clean_news_text</th>\n",
       "    </tr>\n",
       "  </thead>\n",
       "  <tbody>\n",
       "    <tr>\n",
       "      <th>0</th>\n",
       "      <td>138783141312741408</td>\n",
       "      <td>138783141312741408</td>\n",
       "      <td>2011-11-21</td>\n",
       "      <td>Chinese Media Firm Hit by Muddy Waters on.ws...</td>\n",
       "      <td>http://on.wsj.com/vMZ1s2</td>\n",
       "      <td>Focus Media Holding Ltd. lashed back Tuesday a...</td>\n",
       "      <td>focus media holding ltd. lashed back tuesday m...</td>\n",
       "    </tr>\n",
       "    <tr>\n",
       "      <th>1</th>\n",
       "      <td>138950373275738096</td>\n",
       "      <td>138950373275738096</td>\n",
       "      <td>2011-11-22</td>\n",
       "      <td>China Pushes Clean-Energy Agenda on.wsj.com/...</td>\n",
       "      <td>http://on.wsj.com/ty6fGV</td>\n",
       "      <td>BEIJING—China plans to push for more funding f...</td>\n",
       "      <td>beijing—china plans push funding clean-energy ...</td>\n",
       "    </tr>\n",
       "    <tr>\n",
       "      <th>2</th>\n",
       "      <td>139191305766055904</td>\n",
       "      <td>139191305766055904</td>\n",
       "      <td>2011-11-22</td>\n",
       "      <td>PCCW Prices Telecom Trust IPO at Low End on....</td>\n",
       "      <td>http://on.wsj.com/sP81tk</td>\n",
       "      <td>HONG KONG—Fixed-line telecom operator PCCW Ltd...</td>\n",
       "      <td>hong kong—fixed-line telecom operator pccw ltd...</td>\n",
       "    </tr>\n",
       "    <tr>\n",
       "      <th>3</th>\n",
       "      <td>138978095397998592</td>\n",
       "      <td>138978095397998592</td>\n",
       "      <td>2011-11-22</td>\n",
       "      <td>Solar Companies Swing to Loss on.wsj.com/sH5...</td>\n",
       "      <td>http://on.wsj.com/sH5ICa</td>\n",
       "      <td>Chinese solar-products companies JA Solar Hold...</td>\n",
       "      <td>chinese solar-products companies ja solar hold...</td>\n",
       "    </tr>\n",
       "    <tr>\n",
       "      <th>4</th>\n",
       "      <td>138931945504636896</td>\n",
       "      <td>138931945504636896</td>\n",
       "      <td>2011-11-22</td>\n",
       "      <td>China Doubles Size of Hong Kong Currency Swa...</td>\n",
       "      <td>http://on.wsj.com/uza2y6</td>\n",
       "      <td>SHANGHAI—China and Hong Kong said Tuesday they...</td>\n",
       "      <td>shanghai—china hong kong said tuesday doubled ...</td>\n",
       "    </tr>\n",
       "    <tr>\n",
       "      <th>6</th>\n",
       "      <td>139309839816990704</td>\n",
       "      <td>139309839816990704</td>\n",
       "      <td>2011-11-23</td>\n",
       "      <td>Ma's Lead Narrows as Rivals Enter Taiwan Pol...</td>\n",
       "      <td>http://on.wsj.com/sXzmti</td>\n",
       "      <td>TAIPEI—Taiwan President Ma Ying-jeou is slippi...</td>\n",
       "      <td>taipei—taiwan president ying-jeou slipping pol...</td>\n",
       "    </tr>\n",
       "  </tbody>\n",
       "</table>\n",
       "</div>"
      ],
      "text/plain": [
       "         data-item-id  data-conversation-id        date  \\\n",
       "0  138783141312741408    138783141312741408  2011-11-21   \n",
       "1  138950373275738096    138950373275738096  2011-11-22   \n",
       "2  139191305766055904    139191305766055904  2011-11-22   \n",
       "3  138978095397998592    138978095397998592  2011-11-22   \n",
       "4  138931945504636896    138931945504636896  2011-11-22   \n",
       "6  139309839816990704    139309839816990704  2011-11-23   \n",
       "\n",
       "                                               tweet  \\\n",
       "0    Chinese Media Firm Hit by Muddy Waters on.ws...   \n",
       "1    China Pushes Clean-Energy Agenda on.wsj.com/...   \n",
       "2    PCCW Prices Telecom Trust IPO at Low End on....   \n",
       "3    Solar Companies Swing to Loss on.wsj.com/sH5...   \n",
       "4    China Doubles Size of Hong Kong Currency Swa...   \n",
       "6    Ma's Lead Narrows as Rivals Enter Taiwan Pol...   \n",
       "\n",
       "                        url  \\\n",
       "0  http://on.wsj.com/vMZ1s2   \n",
       "1  http://on.wsj.com/ty6fGV   \n",
       "2  http://on.wsj.com/sP81tk   \n",
       "3  http://on.wsj.com/sH5ICa   \n",
       "4  http://on.wsj.com/uza2y6   \n",
       "6  http://on.wsj.com/sXzmti   \n",
       "\n",
       "                                                text  \\\n",
       "0  Focus Media Holding Ltd. lashed back Tuesday a...   \n",
       "1  BEIJING—China plans to push for more funding f...   \n",
       "2  HONG KONG—Fixed-line telecom operator PCCW Ltd...   \n",
       "3  Chinese solar-products companies JA Solar Hold...   \n",
       "4  SHANGHAI—China and Hong Kong said Tuesday they...   \n",
       "6  TAIPEI—Taiwan President Ma Ying-jeou is slippi...   \n",
       "\n",
       "                                     clean_news_text  \n",
       "0  focus media holding ltd. lashed back tuesday m...  \n",
       "1  beijing—china plans push funding clean-energy ...  \n",
       "2  hong kong—fixed-line telecom operator pccw ltd...  \n",
       "3  chinese solar-products companies ja solar hold...  \n",
       "4  shanghai—china hong kong said tuesday doubled ...  \n",
       "6  taipei—taiwan president ying-jeou slipping pol...  "
      ]
     },
     "execution_count": 5,
     "metadata": {},
     "output_type": "execute_result"
    }
   ],
   "source": [
    "news_df.head(6)"
   ]
  },
  {
   "cell_type": "code",
   "execution_count": 9,
   "metadata": {},
   "outputs": [],
   "source": [
    "nlp = en_core_web_sm.load()"
   ]
  },
  {
   "cell_type": "code",
   "execution_count": 10,
   "metadata": {},
   "outputs": [],
   "source": [
    "def identify_label(text, label_type: List):\n",
    "    label_text = []\n",
    "    for x in nlp(text).ents:\n",
    "        if x.label_ in label_type:\n",
    "            label_text.append(x.text)\n",
    "    return label_text"
   ]
  },
  {
   "cell_type": "code",
   "execution_count": 13,
   "metadata": {},
   "outputs": [
    {
     "name": "stderr",
     "output_type": "stream",
     "text": [
      "100%|██████████████████████████████████████████████████████████████████████████████| 2316/2316 [02:46<00:00, 13.94it/s]\n"
     ]
    }
   ],
   "source": [
    "ORGS = []\n",
    "for i in tqdm(range(len(news_df))):\n",
    "    companies = identify_label(news_df.iloc[i][\"clean_news_text\"], label_type=[\"ORG\"])\n",
    "    ORGS.append(companies)"
   ]
  },
  {
   "cell_type": "code",
   "execution_count": 26,
   "metadata": {},
   "outputs": [],
   "source": [
    "news_df[\"companies_identified\"] = ORGS"
   ]
  },
  {
   "cell_type": "code",
   "execution_count": 28,
   "metadata": {},
   "outputs": [
    {
     "data": {
      "text/html": [
       "<div>\n",
       "<style scoped>\n",
       "    .dataframe tbody tr th:only-of-type {\n",
       "        vertical-align: middle;\n",
       "    }\n",
       "\n",
       "    .dataframe tbody tr th {\n",
       "        vertical-align: top;\n",
       "    }\n",
       "\n",
       "    .dataframe thead th {\n",
       "        text-align: right;\n",
       "    }\n",
       "</style>\n",
       "<table border=\"1\" class=\"dataframe\">\n",
       "  <thead>\n",
       "    <tr style=\"text-align: right;\">\n",
       "      <th></th>\n",
       "      <th>data-item-id</th>\n",
       "      <th>data-conversation-id</th>\n",
       "      <th>date</th>\n",
       "      <th>tweet</th>\n",
       "      <th>url</th>\n",
       "      <th>text</th>\n",
       "      <th>clean_news_text</th>\n",
       "      <th>companies_identified</th>\n",
       "    </tr>\n",
       "  </thead>\n",
       "  <tbody>\n",
       "    <tr>\n",
       "      <th>0</th>\n",
       "      <td>138783141312741408</td>\n",
       "      <td>138783141312741408</td>\n",
       "      <td>2011-11-21</td>\n",
       "      <td>Chinese Media Firm Hit by Muddy Waters on.ws...</td>\n",
       "      <td>http://on.wsj.com/vMZ1s2</td>\n",
       "      <td>Focus Media Holding Ltd. lashed back Tuesday a...</td>\n",
       "      <td>focus media holding ltd. lashed back tuesday m...</td>\n",
       "      <td>[focus media holding ltd, focus media, wsj mem...</td>\n",
       "    </tr>\n",
       "    <tr>\n",
       "      <th>1</th>\n",
       "      <td>138950373275738096</td>\n",
       "      <td>138950373275738096</td>\n",
       "      <td>2011-11-22</td>\n",
       "      <td>China Pushes Clean-Energy Agenda on.wsj.com/...</td>\n",
       "      <td>http://on.wsj.com/ty6fGV</td>\n",
       "      <td>BEIJING—China plans to push for more funding f...</td>\n",
       "      <td>beijing—china plans push funding clean-energy ...</td>\n",
       "      <td>[dow jones]</td>\n",
       "    </tr>\n",
       "    <tr>\n",
       "      <th>2</th>\n",
       "      <td>139191305766055904</td>\n",
       "      <td>139191305766055904</td>\n",
       "      <td>2011-11-22</td>\n",
       "      <td>PCCW Prices Telecom Trust IPO at Low End on....</td>\n",
       "      <td>http://on.wsj.com/sP81tk</td>\n",
       "      <td>HONG KONG—Fixed-line telecom operator PCCW Ltd...</td>\n",
       "      <td>hong kong—fixed-line telecom operator pccw ltd...</td>\n",
       "      <td>[telecom, pccw ltd, telecom trust, dow jones]</td>\n",
       "    </tr>\n",
       "    <tr>\n",
       "      <th>3</th>\n",
       "      <td>138978095397998592</td>\n",
       "      <td>138978095397998592</td>\n",
       "      <td>2011-11-22</td>\n",
       "      <td>Solar Companies Swing to Loss on.wsj.com/sH5...</td>\n",
       "      <td>http://on.wsj.com/sH5ICa</td>\n",
       "      <td>Chinese solar-products companies JA Solar Hold...</td>\n",
       "      <td>chinese solar-products companies ja solar hold...</td>\n",
       "      <td>[solar holdings co., suntech power holdings co...</td>\n",
       "    </tr>\n",
       "    <tr>\n",
       "      <th>4</th>\n",
       "      <td>138931945504636896</td>\n",
       "      <td>138931945504636896</td>\n",
       "      <td>2011-11-22</td>\n",
       "      <td>China Doubles Size of Hong Kong Currency Swa...</td>\n",
       "      <td>http://on.wsj.com/uza2y6</td>\n",
       "      <td>SHANGHAI—China and Hong Kong said Tuesday they...</td>\n",
       "      <td>shanghai—china hong kong said tuesday doubled ...</td>\n",
       "      <td>[hong kong monetary authority, de facto centra...</td>\n",
       "    </tr>\n",
       "  </tbody>\n",
       "</table>\n",
       "</div>"
      ],
      "text/plain": [
       "         data-item-id  data-conversation-id        date  \\\n",
       "0  138783141312741408    138783141312741408  2011-11-21   \n",
       "1  138950373275738096    138950373275738096  2011-11-22   \n",
       "2  139191305766055904    139191305766055904  2011-11-22   \n",
       "3  138978095397998592    138978095397998592  2011-11-22   \n",
       "4  138931945504636896    138931945504636896  2011-11-22   \n",
       "\n",
       "                                               tweet  \\\n",
       "0    Chinese Media Firm Hit by Muddy Waters on.ws...   \n",
       "1    China Pushes Clean-Energy Agenda on.wsj.com/...   \n",
       "2    PCCW Prices Telecom Trust IPO at Low End on....   \n",
       "3    Solar Companies Swing to Loss on.wsj.com/sH5...   \n",
       "4    China Doubles Size of Hong Kong Currency Swa...   \n",
       "\n",
       "                        url  \\\n",
       "0  http://on.wsj.com/vMZ1s2   \n",
       "1  http://on.wsj.com/ty6fGV   \n",
       "2  http://on.wsj.com/sP81tk   \n",
       "3  http://on.wsj.com/sH5ICa   \n",
       "4  http://on.wsj.com/uza2y6   \n",
       "\n",
       "                                                text  \\\n",
       "0  Focus Media Holding Ltd. lashed back Tuesday a...   \n",
       "1  BEIJING—China plans to push for more funding f...   \n",
       "2  HONG KONG—Fixed-line telecom operator PCCW Ltd...   \n",
       "3  Chinese solar-products companies JA Solar Hold...   \n",
       "4  SHANGHAI—China and Hong Kong said Tuesday they...   \n",
       "\n",
       "                                     clean_news_text  \\\n",
       "0  focus media holding ltd. lashed back tuesday m...   \n",
       "1  beijing—china plans push funding clean-energy ...   \n",
       "2  hong kong—fixed-line telecom operator pccw ltd...   \n",
       "3  chinese solar-products companies ja solar hold...   \n",
       "4  shanghai—china hong kong said tuesday doubled ...   \n",
       "\n",
       "                                companies_identified  \n",
       "0  [focus media holding ltd, focus media, wsj mem...  \n",
       "1                                        [dow jones]  \n",
       "2      [telecom, pccw ltd, telecom trust, dow jones]  \n",
       "3  [solar holdings co., suntech power holdings co...  \n",
       "4  [hong kong monetary authority, de facto centra...  "
      ]
     },
     "execution_count": 28,
     "metadata": {},
     "output_type": "execute_result"
    }
   ],
   "source": [
    "news_df.head()"
   ]
  },
  {
   "cell_type": "code",
   "execution_count": 45,
   "metadata": {},
   "outputs": [],
   "source": [
    "news_df.to_excel(f\"{EXCEL_PATH}\\\\wsj_logistics_news_companies_identified_{from_year}-{to_year}.xlsx\",\n",
    "                 index=False)"
   ]
  },
  {
   "cell_type": "markdown",
   "metadata": {},
   "source": [
    "# Identifying url within text"
   ]
  },
  {
   "cell_type": "code",
   "execution_count": 80,
   "metadata": {},
   "outputs": [],
   "source": [
    "urls = news_df[\"text\"].apply(lambda x: find_urls_in_text(x) if (isinstance(x, str) and len(x) > 0) else []).values"
   ]
  }
 ],
 "metadata": {
  "kernelspec": {
   "display_name": "wsj_tweet_scrapping",
   "language": "python",
   "name": "wsj_tweet_scrapping"
  },
  "language_info": {
   "codemirror_mode": {
    "name": "ipython",
    "version": 3
   },
   "file_extension": ".py",
   "mimetype": "text/x-python",
   "name": "python",
   "nbconvert_exporter": "python",
   "pygments_lexer": "ipython3",
   "version": "3.8.6"
  }
 },
 "nbformat": 4,
 "nbformat_minor": 4
}
