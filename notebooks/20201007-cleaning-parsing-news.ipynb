{
 "cells": [
  {
   "cell_type": "code",
   "execution_count": 129,
   "metadata": {},
   "outputs": [],
   "source": [
    "%load_ext autoreload\n",
    "%autoreload 2"
   ]
  },
  {
   "cell_type": "code",
   "execution_count": 126,
   "metadata": {},
   "outputs": [],
   "source": [
    "import pandas as pd\n",
    "from glob import glob\n",
    "from os import getcwd, path\n",
    "from tqdm import tqdm\n",
    "import re\n",
    "import spacy\n"
   ]
  },
  {
   "cell_type": "code",
   "execution_count": 131,
   "metadata": {},
   "outputs": [],
   "source": [
    "from sys import path\n",
    "PROJECT_PATH = getcwd()[:getcwd().find(\"notebooks\")][:-1]\n",
    "path.append(f\"{PROJECT_PATH}\\\\src\")"
   ]
  },
  {
   "cell_type": "code",
   "execution_count": 141,
   "metadata": {},
   "outputs": [],
   "source": [
    "from utils import (get_words_contractions, \n",
    "                   find_urls_in_text, \n",
    "                   get_stopwords)"
   ]
  },
  {
   "cell_type": "code",
   "execution_count": 12,
   "metadata": {},
   "outputs": [],
   "source": [
    "PROJECT_NAME = \"wsj_tweet_scrapping\"\n",
    "PROJECT_PATH = getcwd()[: getcwd().find(PROJECT_NAME) + len(PROJECT_NAME)]\n",
    "DATA_PATH = f\"{PROJECT_PATH}\\\\data\"\n",
    "EXCEL_PATH = f\"{DATA_PATH}\\\\excel\"\n",
    "\n",
    "FILE_FORMAT = \"twint_wsj_logistics_news_\""
   ]
  },
  {
   "cell_type": "code",
   "execution_count": 14,
   "metadata": {},
   "outputs": [],
   "source": [
    "news_files = glob(f\"{EXCEL_PATH}\\\\*.xlsx\")\n",
    "news_files = [file_ for file_ in news_files if FILE_FORMAT in path.basename(file_)]"
   ]
  },
  {
   "cell_type": "code",
   "execution_count": 33,
   "metadata": {},
   "outputs": [
    {
     "name": "stderr",
     "output_type": "stream",
     "text": [
      "100%|██████████████████████████████████████████████████████████████████████████████████| 21/21 [00:00<00:00, 75.29it/s]\n"
     ]
    }
   ],
   "source": [
    "all_data = []\n",
    "for i in tqdm(range(len(news_files))): \n",
    "    content = pd.read_excel(news_files[i])\n",
    "    for val in content.values[:, :6]:\n",
    "        all_data.append(val)"
   ]
  },
  {
   "cell_type": "code",
   "execution_count": 85,
   "metadata": {},
   "outputs": [
    {
     "data": {
      "text/html": [
       "<div>\n",
       "<style scoped>\n",
       "    .dataframe tbody tr th:only-of-type {\n",
       "        vertical-align: middle;\n",
       "    }\n",
       "\n",
       "    .dataframe tbody tr th {\n",
       "        vertical-align: top;\n",
       "    }\n",
       "\n",
       "    .dataframe thead th {\n",
       "        text-align: right;\n",
       "    }\n",
       "</style>\n",
       "<table border=\"1\" class=\"dataframe\">\n",
       "  <thead>\n",
       "    <tr style=\"text-align: right;\">\n",
       "      <th></th>\n",
       "      <th>data-item-id</th>\n",
       "      <th>data-conversation-id</th>\n",
       "      <th>date</th>\n",
       "      <th>tweet</th>\n",
       "      <th>url</th>\n",
       "      <th>text</th>\n",
       "    </tr>\n",
       "  </thead>\n",
       "  <tbody>\n",
       "    <tr>\n",
       "      <th>0</th>\n",
       "      <td>1080446429087305984</td>\n",
       "      <td>1080446429087305984</td>\n",
       "      <td>2019-01-02</td>\n",
       "      <td>The captain of car carrier Sincerity Ace rep...</td>\n",
       "      <td>https://on.wsj.com/2CJAA4d</td>\n",
       "      <td>https://www.wsj.com/articles/mitsui-ship-is-ab...</td>\n",
       "    </tr>\n",
       "    <tr>\n",
       "      <th>1</th>\n",
       "      <td>1081220232008617984</td>\n",
       "      <td>1081220232008617984</td>\n",
       "      <td>2019-01-04</td>\n",
       "      <td>Today’s newsletter: China Bites Apple; Spill...</td>\n",
       "      <td>https://on.wsj.com/2F8CPja</td>\n",
       "      <td>https://www.wsj.com/articles/todays-logistics-...</td>\n",
       "    </tr>\n",
       "    <tr>\n",
       "      <th>2</th>\n",
       "      <td>1082297091622429056</td>\n",
       "      <td>1082297091622429056</td>\n",
       "      <td>2019-01-07</td>\n",
       "      <td>Today's newsletter: Hiring for Logistics; Th...</td>\n",
       "      <td>https://on.wsj.com/2CWrp0v</td>\n",
       "      <td>News and analysis on the world of logistics, f...</td>\n",
       "    </tr>\n",
       "    <tr>\n",
       "      <th>3</th>\n",
       "      <td>1082590862540984064</td>\n",
       "      <td>1082590862540984064</td>\n",
       "      <td>2019-01-08</td>\n",
       "      <td>Shipping industry in U.K. faces logistics ni...</td>\n",
       "      <td>https://on.wsj.com/2FeT6TX</td>\n",
       "      <td>https://www.wsj.com/articles/u-k-finds-a-fault...</td>\n",
       "    </tr>\n",
       "    <tr>\n",
       "      <th>4</th>\n",
       "      <td>1082971472342195968</td>\n",
       "      <td>1082971472342195968</td>\n",
       "      <td>2019-01-09</td>\n",
       "      <td>J.B. Hunt is buying a New Jersey-based home-...</td>\n",
       "      <td>https://on.wsj.com/2CXK0cG</td>\n",
       "      <td>https://www.wsj.com/articles/j-b-hunt-builds-u...</td>\n",
       "    </tr>\n",
       "  </tbody>\n",
       "</table>\n",
       "</div>"
      ],
      "text/plain": [
       "          data-item-id  data-conversation-id        date  \\\n",
       "0  1080446429087305984   1080446429087305984  2019-01-02   \n",
       "1  1081220232008617984   1081220232008617984  2019-01-04   \n",
       "2  1082297091622429056   1082297091622429056  2019-01-07   \n",
       "3  1082590862540984064   1082590862540984064  2019-01-08   \n",
       "4  1082971472342195968   1082971472342195968  2019-01-09   \n",
       "\n",
       "                                               tweet  \\\n",
       "0    The captain of car carrier Sincerity Ace rep...   \n",
       "1    Today’s newsletter: China Bites Apple; Spill...   \n",
       "2    Today's newsletter: Hiring for Logistics; Th...   \n",
       "3    Shipping industry in U.K. faces logistics ni...   \n",
       "4    J.B. Hunt is buying a New Jersey-based home-...   \n",
       "\n",
       "                          url  \\\n",
       "0  https://on.wsj.com/2CJAA4d   \n",
       "1  https://on.wsj.com/2F8CPja   \n",
       "2  https://on.wsj.com/2CWrp0v   \n",
       "3  https://on.wsj.com/2FeT6TX   \n",
       "4  https://on.wsj.com/2CXK0cG   \n",
       "\n",
       "                                                text  \n",
       "0  https://www.wsj.com/articles/mitsui-ship-is-ab...  \n",
       "1  https://www.wsj.com/articles/todays-logistics-...  \n",
       "2  News and analysis on the world of logistics, f...  \n",
       "3  https://www.wsj.com/articles/u-k-finds-a-fault...  \n",
       "4  https://www.wsj.com/articles/j-b-hunt-builds-u...  "
      ]
     },
     "execution_count": 85,
     "metadata": {},
     "output_type": "execute_result"
    }
   ],
   "source": [
    "cols = pd.read_excel(news_files[0]).columns\n",
    "news_df = pd.DataFrame(all_data, columns=cols)\n",
    "news_df = news_df.sort_values(\"date\").reset_index(drop=True) \n",
    "news_df.head()"
   ]
  },
  {
   "cell_type": "code",
   "execution_count": 97,
   "metadata": {},
   "outputs": [],
   "source": []
  },
  {
   "cell_type": "code",
   "execution_count": 96,
   "metadata": {},
   "outputs": [
    {
     "data": {
      "text/plain": [
       "['https://www.wsj.com/articles/mitsui-ship-is-ablaze-in-middle-of-pacific-ocean-11546429972']"
      ]
     },
     "execution_count": 96,
     "metadata": {},
     "output_type": "execute_result"
    }
   ],
   "source": [
    "find(news_df.iloc[0][\"text\"])"
   ]
  },
  {
   "cell_type": "code",
   "execution_count": 165,
   "metadata": {},
   "outputs": [
    {
     "data": {
      "text/plain": [
       "5"
      ]
     },
     "execution_count": 165,
     "metadata": {},
     "output_type": "execute_result"
    }
   ],
   "source": [
    "len(\"22323\")"
   ]
  },
  {
   "cell_type": "code",
   "execution_count": 174,
   "metadata": {},
   "outputs": [],
   "source": [
    "def clean_news(news, \n",
    "               remove_stopwords : bool = False, \n",
    "               process_contractions : bool = False, \n",
    "               remove_all_special_chars = False,\n",
    "               remove_single_alpha_char_word : bool = False):\n",
    "    \n",
    "    urls_to_remove = find_urls_in_text(news)\n",
    "    \n",
    "    remove_texts = [\"Sign up: With one click, get this newsletter \"\n",
    "                    \"delivered to your inbox.\",\n",
    "                    \"News and analysis on the world of logistics, \"\n",
    "                    \"from supply chain to transport and technology. \"\n",
    "                    \"Trouble viewing this email? View in web browser\", \n",
    "                   \"Write to him at paul.page@wsj.com. \"\n",
    "                    \"Follow the WSJ Logistics Report team: @PaulPage, \"\n",
    "                    \"@jensmithWSJ, @EEPhillips_WSJ, @CostasParis. \"\n",
    "                    \"Follow the WSJ Logistics Report on Twitter at @WSJLogistics.\"\n",
    "                   ]\n",
    "    \n",
    "    for text in remove_texts:\n",
    "        news = news.replace(text, \" \")\n",
    "        \n",
    "    for url in urls_to_remove:\n",
    "        news = news.replace(url, \" \")\n",
    "\n",
    "    news = news.lower()\n",
    "\n",
    "    if process_contractions:\n",
    "        cleaned_news = \"\"\n",
    "        contractions = get_words_contractions()\n",
    "        for word in news.split():\n",
    "            if word in contractions:\n",
    "                word = contractions[word]\n",
    "            cleaned_news += \" \" + word\n",
    "        news = cleaned_news\n",
    "        \n",
    "    if remove_stopwords:\n",
    "        cleaned_news = \"\"\n",
    "        stopwords = get_stopwords(lang=\"english\")\n",
    "        for word in news.split():\n",
    "            if word not in stopwords:\n",
    "                cleaned_news += \" \" + word\n",
    "        news = cleaned_news\n",
    "         \n",
    "    if remove_all_special_chars:\n",
    "        chars_to_keep = \"abcdefghijklmnopqrstuvwxyz1234567890 \"\n",
    "    else:\n",
    "        chars_to_keep = \"abcdefghijklmnopqrstuvwxyz1234567890 .,''’\"\n",
    "    \n",
    "    news = \"\".join([char_ if char_ in chars_to_keep else \" \" for char_ in news])\n",
    "    \n",
    "    if remove_single_alpha_char_word:\n",
    "        cleaned_news = \"\"\n",
    "        for word in news.split():\n",
    "            if word.isdigit() or len(word) > 1:\n",
    "                cleaned_news += \" \" + word\n",
    "        news = cleaned_news\n",
    "\n",
    "    news = \" \".join(news.split())     \n",
    "\n",
    "    return news"
   ]
  },
  {
   "cell_type": "code",
   "execution_count": 175,
   "metadata": {},
   "outputs": [],
   "source": [
    "clean_news_text = news_df[\"text\"].apply(lambda x: clean_news(str(x),\n",
    "                                                             process_contractions = True, \n",
    "                                                             remove_stopwords = True, \n",
    "                                                             remove_all_special_chars = True, \n",
    "                                                             remove_single_alpha_char_word = True))"
   ]
  },
  {
   "cell_type": "code",
   "execution_count": 176,
   "metadata": {},
   "outputs": [],
   "source": [
    "news_df[\"clean_news_text\"] = clean_news_text "
   ]
  },
  {
   "cell_type": "code",
   "execution_count": 177,
   "metadata": {},
   "outputs": [
    {
     "data": {
      "text/html": [
       "<div>\n",
       "<style scoped>\n",
       "    .dataframe tbody tr th:only-of-type {\n",
       "        vertical-align: middle;\n",
       "    }\n",
       "\n",
       "    .dataframe tbody tr th {\n",
       "        vertical-align: top;\n",
       "    }\n",
       "\n",
       "    .dataframe thead th {\n",
       "        text-align: right;\n",
       "    }\n",
       "</style>\n",
       "<table border=\"1\" class=\"dataframe\">\n",
       "  <thead>\n",
       "    <tr style=\"text-align: right;\">\n",
       "      <th></th>\n",
       "      <th>data-item-id</th>\n",
       "      <th>data-conversation-id</th>\n",
       "      <th>date</th>\n",
       "      <th>tweet</th>\n",
       "      <th>url</th>\n",
       "      <th>text</th>\n",
       "      <th>clean_news_text</th>\n",
       "    </tr>\n",
       "  </thead>\n",
       "  <tbody>\n",
       "    <tr>\n",
       "      <th>0</th>\n",
       "      <td>1080446429087305984</td>\n",
       "      <td>1080446429087305984</td>\n",
       "      <td>2019-01-02</td>\n",
       "      <td>The captain of car carrier Sincerity Ace rep...</td>\n",
       "      <td>https://on.wsj.com/2CJAA4d</td>\n",
       "      <td>https://www.wsj.com/articles/mitsui-ship-is-ab...</td>\n",
       "      <td>japanese owned car carrier bound hawaii ablaze...</td>\n",
       "    </tr>\n",
       "    <tr>\n",
       "      <th>1</th>\n",
       "      <td>1081220232008617984</td>\n",
       "      <td>1081220232008617984</td>\n",
       "      <td>2019-01-04</td>\n",
       "      <td>Today’s newsletter: China Bites Apple; Spill...</td>\n",
       "      <td>https://on.wsj.com/2F8CPja</td>\n",
       "      <td>https://www.wsj.com/articles/todays-logistics-...</td>\n",
       "      <td>china economic stumbles reverberating strongly...</td>\n",
       "    </tr>\n",
       "    <tr>\n",
       "      <th>2</th>\n",
       "      <td>1082297091622429056</td>\n",
       "      <td>1082297091622429056</td>\n",
       "      <td>2019-01-07</td>\n",
       "      <td>Today's newsletter: Hiring for Logistics; Th...</td>\n",
       "      <td>https://on.wsj.com/2CWrp0v</td>\n",
       "      <td>News and analysis on the world of logistics, f...</td>\n",
       "      <td>strong hiring transportation logistics sector ...</td>\n",
       "    </tr>\n",
       "    <tr>\n",
       "      <th>3</th>\n",
       "      <td>1082590862540984064</td>\n",
       "      <td>1082590862540984064</td>\n",
       "      <td>2019-01-08</td>\n",
       "      <td>Shipping industry in U.K. faces logistics ni...</td>\n",
       "      <td>https://on.wsj.com/2FeT6TX</td>\n",
       "      <td>https://www.wsj.com/articles/u-k-finds-a-fault...</td>\n",
       "      <td>british policy makers calling shipping industr...</td>\n",
       "    </tr>\n",
       "    <tr>\n",
       "      <th>4</th>\n",
       "      <td>1082971472342195968</td>\n",
       "      <td>1082971472342195968</td>\n",
       "      <td>2019-01-09</td>\n",
       "      <td>J.B. Hunt is buying a New Jersey-based home-...</td>\n",
       "      <td>https://on.wsj.com/2CXK0cG</td>\n",
       "      <td>https://www.wsj.com/articles/j-b-hunt-builds-u...</td>\n",
       "      <td>hunt transport services inc snapping another h...</td>\n",
       "    </tr>\n",
       "  </tbody>\n",
       "</table>\n",
       "</div>"
      ],
      "text/plain": [
       "          data-item-id  data-conversation-id        date  \\\n",
       "0  1080446429087305984   1080446429087305984  2019-01-02   \n",
       "1  1081220232008617984   1081220232008617984  2019-01-04   \n",
       "2  1082297091622429056   1082297091622429056  2019-01-07   \n",
       "3  1082590862540984064   1082590862540984064  2019-01-08   \n",
       "4  1082971472342195968   1082971472342195968  2019-01-09   \n",
       "\n",
       "                                               tweet  \\\n",
       "0    The captain of car carrier Sincerity Ace rep...   \n",
       "1    Today’s newsletter: China Bites Apple; Spill...   \n",
       "2    Today's newsletter: Hiring for Logistics; Th...   \n",
       "3    Shipping industry in U.K. faces logistics ni...   \n",
       "4    J.B. Hunt is buying a New Jersey-based home-...   \n",
       "\n",
       "                          url  \\\n",
       "0  https://on.wsj.com/2CJAA4d   \n",
       "1  https://on.wsj.com/2F8CPja   \n",
       "2  https://on.wsj.com/2CWrp0v   \n",
       "3  https://on.wsj.com/2FeT6TX   \n",
       "4  https://on.wsj.com/2CXK0cG   \n",
       "\n",
       "                                                text  \\\n",
       "0  https://www.wsj.com/articles/mitsui-ship-is-ab...   \n",
       "1  https://www.wsj.com/articles/todays-logistics-...   \n",
       "2  News and analysis on the world of logistics, f...   \n",
       "3  https://www.wsj.com/articles/u-k-finds-a-fault...   \n",
       "4  https://www.wsj.com/articles/j-b-hunt-builds-u...   \n",
       "\n",
       "                                     clean_news_text  \n",
       "0  japanese owned car carrier bound hawaii ablaze...  \n",
       "1  china economic stumbles reverberating strongly...  \n",
       "2  strong hiring transportation logistics sector ...  \n",
       "3  british policy makers calling shipping industr...  \n",
       "4  hunt transport services inc snapping another h...  "
      ]
     },
     "execution_count": 177,
     "metadata": {},
     "output_type": "execute_result"
    }
   ],
   "source": [
    "news_df.head()"
   ]
  },
  {
   "cell_type": "code",
   "execution_count": 178,
   "metadata": {},
   "outputs": [
    {
     "data": {
      "text/plain": [
       "''"
      ]
     },
     "execution_count": 178,
     "metadata": {},
     "output_type": "execute_result"
    }
   ],
   "source": [
    "clean_news(\"s\", remove_single_alpha_char_word = True)"
   ]
  },
  {
   "cell_type": "code",
   "execution_count": 181,
   "metadata": {},
   "outputs": [
    {
     "data": {
      "text/plain": [
       "'News and analysis on the world of logistics, from supply chain to transport and technology. Trouble viewing this email? View in web browser › The dry-bulk shipping sector at the heart of the global industrial economy is navigating stormy seas. Carriers stepped up their scrapping of the biggest bulk transport vessels in the first quarter, the WSJ Logistics Report’s Costas Paris writes, as shipping '"
      ]
     },
     "execution_count": 181,
     "metadata": {},
     "output_type": "execute_result"
    }
   ],
   "source": [
    "news_df.iloc[100][\"text\"][:400]"
   ]
  },
  {
   "cell_type": "code",
   "execution_count": 183,
   "metadata": {},
   "outputs": [
    {
     "data": {
      "text/plain": [
       "'dry bulk shipping sector heart global industrial economy navigating stormy seas carriers stepped scrapping biggest bulk transport vessels first quarter wsj logistics report costas paris writes shipping rates'"
      ]
     },
     "execution_count": 183,
     "metadata": {},
     "output_type": "execute_result"
    }
   ],
   "source": [
    "news_df.iloc[100][\"clean_news_text\"][:207]"
   ]
  },
  {
   "cell_type": "code",
   "execution_count": 157,
   "metadata": {},
   "outputs": [],
   "source": [
    "# news_df.to_excel(f\"{EXCEL_PATH}\\\\wsj-news-2019-2020.xlsx\", index=False)"
   ]
  },
  {
   "cell_type": "code",
   "execution_count": null,
   "metadata": {},
   "outputs": [],
   "source": []
  }
 ],
 "metadata": {
  "kernelspec": {
   "display_name": "wsj_tweet_scrapping",
   "language": "python",
   "name": "wsj_tweet_scrapping"
  },
  "language_info": {
   "codemirror_mode": {
    "name": "ipython",
    "version": 3
   },
   "file_extension": ".py",
   "mimetype": "text/x-python",
   "name": "python",
   "nbconvert_exporter": "python",
   "pygments_lexer": "ipython3",
   "version": "3.8.5"
  }
 },
 "nbformat": 4,
 "nbformat_minor": 4
}
